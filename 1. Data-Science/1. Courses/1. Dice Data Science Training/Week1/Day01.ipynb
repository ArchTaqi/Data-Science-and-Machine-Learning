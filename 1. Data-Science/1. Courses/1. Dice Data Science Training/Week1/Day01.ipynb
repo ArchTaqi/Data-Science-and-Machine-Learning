{
 "cells": [
  {
   "cell_type": "markdown",
   "metadata": {},
   "source": [
    "# What is data science?"
   ]
  },
  {
   "cell_type": "markdown",
   "metadata": {},
   "source": [
    "data science involves the following fields: programming, machine learning or statistical algorithms, and business intelligence.\n",
    "![Data Science Venn Diagram](../assets/001-VennDiagram_v2.png)\n"
   ]
  },
  {
   "cell_type": "markdown",
   "metadata": {},
   "source": [
    "- **Programming Skills** -- to collect data, we need programming or coding skills to gather it. \n",
    "- **Business Intelligence** -- to explore the data, we need a background in the data we are reviewing to provide context on how best to organize it. \n",
    "- **Math & Statistics Knowledge** -- to make predictions with the data, we need to use statistics and machine learning to build a model."
   ]
  },
  {
   "cell_type": "markdown",
   "metadata": {},
   "source": [
    "## Data Science Workflow"
   ]
  },
  {
   "cell_type": "markdown",
   "metadata": {},
   "source": [
    "![Date Science Work Flow](DS.Workflow.jpg)"
   ]
  },
  {
   "cell_type": "markdown",
   "metadata": {},
   "source": [
    "**Step 1**\n",
    "\n",
    "1. **Questions**  The accuracy of data analysis relies on the quality of data that has been collected. A number of errors can occur while collecting data. Manual error is the major one. Regardless of the amount of information and data science expertise we have, machine learning may be useless or even harmful with poor data collection process in place. **Tip for Questions** ask and analyze each and every aspect to things related to the object from his birth to death. i.e In analysics prices of car, gather all information related to car [color, milage, capicity, resale] from the birth of car till it is destroyed.\n",
    "\n",
    "    - **_Case 1 - Sales are dropped_**\n",
    "        1. What is your defination of \"sales are dropped\"?\n",
    "        2. What is your limit of Sales drop or high?\n",
    "        3. Sales are drop for a specific product or all?\n",
    "        4. Sales are drop in some regions or all?\n",
    "\n",
    "    - **_Case 2 - Flight is late, Why_**\n",
    "        1. What is your defination of \"Flight is late\"?\n",
    "        2. How exactly is duration above the time to say it's late?\n",
    "        3. All flights are late, all the time it is late?\n",
    "<br /><br />\n",
    "2. **Acquire** bases on questionares we get the idea of what kind and exactly the data we needed. It can also be a primary sources such as earlier records, data centers, manual collection or secondary sources such as you need some data from 3rd party i.e wheather data or purchasing a data set from Bloomberg or downloading it from Kaggle etc.\n",
    "<br /><br />\n",
    "3. **ETL** standardized the data for further analysis. ETL can be done on both Data Warehouse and Data Lake depends upon the business model. Tools used [Kafka, PySpark]. i.e Netflix, Linkedin.\n",
    "\n",
    "![Data Lake vs. Data Warehouse](data-warehouse-vs-data-lake.png)\n",
    "\n",
    "    - Data Warehouse\n",
    "        - Very Very Very Structured and pre-defined data\n",
    "        - Schema on Write [creating a schema for data before writing into the database]\n",
    "        - Data warehouses tend to go with the notion of a single schema for all analytics needs.\n",
    "    - Data Lake\n",
    "        - Structured, semi-structured and unstructured\n",
    "        - Schema on Read [you create the schema only when reading the data]\n",
    "        - Stores raw data, in whatever form the data source provides.\n",
    "<br />\n",
    "4. **EDA**  objectives is data exploration. EDA can include clustering analysis, looking for outliers, exploring data structure, visualizations, and many others all of which explore data.\n",
    "\n",
    "    1. **Data wrangling**  turn data into information. This technique is also known as **Data Munging**. Examples of data wrangling tasks are:\n",
    "        - harmonizing date values so they all have the same format\n",
    "        - cleaning up inconsistent use of keywords, tags, or other enumerated data types.\n",
    "        - replacing missing values or incorrect with NULL (or whatever you want)\n",
    "        - transposing data so rows become columns, columns become rows\n",
    "        - merging columns together in some useful way\n",
    "        - filtering out unwanted values; removing columns.\n",
    "\n",
    "    2. **Data Visualisation**  A picture is worth a thousand words. data visualization is very important for both understanding data and communicating results."
   ]
  },
  {
   "cell_type": "markdown",
   "metadata": {},
   "source": [
    "**Step 2**"
   ]
  },
  {
   "cell_type": "code",
   "execution_count": null,
   "metadata": {},
   "outputs": [],
   "source": []
  },
  {
   "cell_type": "markdown",
   "metadata": {},
   "source": [
    "**Step 3**"
   ]
  },
  {
   "cell_type": "markdown",
   "metadata": {},
   "source": [
    "- **Storyteller**\n",
    "\n",
    "Most important, because you will be the one who gona be translates the insights you found from the model to a story that you can then tell CEO or Product manager or any layman."
   ]
  },
  {
   "cell_type": "markdown",
   "metadata": {},
   "source": [
    "## Resources for Further Reading\n",
    "\n",
    "1. https://towardsdatascience.com/a-peek-into-a-netflix-data-scientists-day-66bf3dacabb9"
   ]
  },
  {
   "cell_type": "code",
   "execution_count": null,
   "metadata": {},
   "outputs": [],
   "source": []
  }
 ],
 "metadata": {
  "kernelspec": {
   "display_name": "Python 3",
   "language": "python",
   "name": "python3"
  },
  "language_info": {
   "codemirror_mode": {
    "name": "ipython",
    "version": 3
   },
   "file_extension": ".py",
   "mimetype": "text/x-python",
   "name": "python",
   "nbconvert_exporter": "python",
   "pygments_lexer": "ipython3",
   "version": "3.6.5"
  }
 },
 "nbformat": 4,
 "nbformat_minor": 2
}
