{
 "cells": [
  {
   "cell_type": "code",
   "execution_count": 1,
   "metadata": {},
   "outputs": [],
   "source": [
    "import numpy as np\n",
    "import pandas as pd\n",
    "from sklearn.linear_model import LinearRegression\n",
    "from sklearn.model_selection import train_test_split\n",
    "from sklearn.preprocessing import StandardScaler\n",
    "from sklearn.metrics import r2_score\n",
    "import matplotlib.pyplot as plt\n",
    "import seaborn as sns\n",
    "%matplotlib inline\n",
    "sns.set()"
   ]
  },
  {
   "cell_type": "markdown",
   "metadata": {},
   "source": [
    "Why defining random seed?"
   ]
  },
  {
   "cell_type": "code",
   "execution_count": 2,
   "metadata": {},
   "outputs": [],
   "source": [
    "np.random.seed(seed=25)"
   ]
  },
  {
   "cell_type": "markdown",
   "metadata": {},
   "source": [
    "## Non-Linear Data"
   ]
  },
  {
   "cell_type": "code",
   "execution_count": 3,
   "metadata": {
    "scrolled": false
   },
   "outputs": [
    {
     "name": "stdout",
     "output_type": "stream",
     "text": [
      "(4898, 12)\n",
      "fixed acidity           0\n",
      "volatile acidity        0\n",
      "citric acid             0\n",
      "residual sugar          0\n",
      "chlorides               0\n",
      "free sulfur dioxide     0\n",
      "total sulfur dioxide    0\n",
      "density                 0\n",
      "pH                      0\n",
      "sulphates               0\n",
      "alcohol                 0\n",
      "quality                 0\n",
      "dtype: int64\n"
     ]
    },
    {
     "data": {
      "text/html": [
       "<div>\n",
       "<style scoped>\n",
       "    .dataframe tbody tr th:only-of-type {\n",
       "        vertical-align: middle;\n",
       "    }\n",
       "\n",
       "    .dataframe tbody tr th {\n",
       "        vertical-align: top;\n",
       "    }\n",
       "\n",
       "    .dataframe thead th {\n",
       "        text-align: right;\n",
       "    }\n",
       "</style>\n",
       "<table border=\"1\" class=\"dataframe\">\n",
       "  <thead>\n",
       "    <tr style=\"text-align: right;\">\n",
       "      <th></th>\n",
       "      <th>fixed acidity</th>\n",
       "      <th>volatile acidity</th>\n",
       "      <th>citric acid</th>\n",
       "      <th>residual sugar</th>\n",
       "      <th>chlorides</th>\n",
       "      <th>free sulfur dioxide</th>\n",
       "      <th>total sulfur dioxide</th>\n",
       "      <th>density</th>\n",
       "      <th>pH</th>\n",
       "      <th>sulphates</th>\n",
       "      <th>alcohol</th>\n",
       "      <th>quality</th>\n",
       "    </tr>\n",
       "  </thead>\n",
       "  <tbody>\n",
       "    <tr>\n",
       "      <th>0</th>\n",
       "      <td>7.0</td>\n",
       "      <td>0.27</td>\n",
       "      <td>0.36</td>\n",
       "      <td>20.7</td>\n",
       "      <td>0.045</td>\n",
       "      <td>45.0</td>\n",
       "      <td>170.0</td>\n",
       "      <td>1.0010</td>\n",
       "      <td>3.00</td>\n",
       "      <td>0.45</td>\n",
       "      <td>8.8</td>\n",
       "      <td>6</td>\n",
       "    </tr>\n",
       "    <tr>\n",
       "      <th>1</th>\n",
       "      <td>6.3</td>\n",
       "      <td>0.30</td>\n",
       "      <td>0.34</td>\n",
       "      <td>1.6</td>\n",
       "      <td>0.049</td>\n",
       "      <td>14.0</td>\n",
       "      <td>132.0</td>\n",
       "      <td>0.9940</td>\n",
       "      <td>3.30</td>\n",
       "      <td>0.49</td>\n",
       "      <td>9.5</td>\n",
       "      <td>6</td>\n",
       "    </tr>\n",
       "    <tr>\n",
       "      <th>2</th>\n",
       "      <td>8.1</td>\n",
       "      <td>0.28</td>\n",
       "      <td>0.40</td>\n",
       "      <td>6.9</td>\n",
       "      <td>0.050</td>\n",
       "      <td>30.0</td>\n",
       "      <td>97.0</td>\n",
       "      <td>0.9951</td>\n",
       "      <td>3.26</td>\n",
       "      <td>0.44</td>\n",
       "      <td>10.1</td>\n",
       "      <td>6</td>\n",
       "    </tr>\n",
       "    <tr>\n",
       "      <th>3</th>\n",
       "      <td>7.2</td>\n",
       "      <td>0.23</td>\n",
       "      <td>0.32</td>\n",
       "      <td>8.5</td>\n",
       "      <td>0.058</td>\n",
       "      <td>47.0</td>\n",
       "      <td>186.0</td>\n",
       "      <td>0.9956</td>\n",
       "      <td>3.19</td>\n",
       "      <td>0.40</td>\n",
       "      <td>9.9</td>\n",
       "      <td>6</td>\n",
       "    </tr>\n",
       "    <tr>\n",
       "      <th>4</th>\n",
       "      <td>7.2</td>\n",
       "      <td>0.23</td>\n",
       "      <td>0.32</td>\n",
       "      <td>8.5</td>\n",
       "      <td>0.058</td>\n",
       "      <td>47.0</td>\n",
       "      <td>186.0</td>\n",
       "      <td>0.9956</td>\n",
       "      <td>3.19</td>\n",
       "      <td>0.40</td>\n",
       "      <td>9.9</td>\n",
       "      <td>6</td>\n",
       "    </tr>\n",
       "  </tbody>\n",
       "</table>\n",
       "</div>"
      ],
      "text/plain": [
       "   fixed acidity  volatile acidity  citric acid  residual sugar  chlorides  \\\n",
       "0            7.0              0.27         0.36            20.7      0.045   \n",
       "1            6.3              0.30         0.34             1.6      0.049   \n",
       "2            8.1              0.28         0.40             6.9      0.050   \n",
       "3            7.2              0.23         0.32             8.5      0.058   \n",
       "4            7.2              0.23         0.32             8.5      0.058   \n",
       "\n",
       "   free sulfur dioxide  total sulfur dioxide  density    pH  sulphates  \\\n",
       "0                 45.0                 170.0   1.0010  3.00       0.45   \n",
       "1                 14.0                 132.0   0.9940  3.30       0.49   \n",
       "2                 30.0                  97.0   0.9951  3.26       0.44   \n",
       "3                 47.0                 186.0   0.9956  3.19       0.40   \n",
       "4                 47.0                 186.0   0.9956  3.19       0.40   \n",
       "\n",
       "   alcohol  quality  \n",
       "0      8.8        6  \n",
       "1      9.5        6  \n",
       "2     10.1        6  \n",
       "3      9.9        6  \n",
       "4      9.9        6  "
      ]
     },
     "execution_count": 3,
     "metadata": {},
     "output_type": "execute_result"
    }
   ],
   "source": [
    "data = pd.read_csv('winequality-white.csv', sep=';')\n",
    "print(data.shape)\n",
    "print(data.isnull().sum())\n",
    "data.head()"
   ]
  },
  {
   "cell_type": "code",
   "execution_count": 4,
   "metadata": {},
   "outputs": [],
   "source": [
    "df = data.copy() "
   ]
  },
  {
   "cell_type": "markdown",
   "metadata": {},
   "source": [
    "# Residual Plots"
   ]
  },
  {
   "cell_type": "markdown",
   "metadata": {},
   "source": [
    "Checking linearity against dependent variables"
   ]
  },
  {
   "cell_type": "code",
   "execution_count": 5,
   "metadata": {
    "scrolled": false
   },
   "outputs": [
    {
     "data": {
      "text/plain": [
       "<matplotlib.axes._subplots.AxesSubplot at 0x7f69afb5a940>"
      ]
     },
     "execution_count": 5,
     "metadata": {},
     "output_type": "execute_result"
    },
    {
     "data": {
      "image/png": "[encoded data removed]",
      "text/plain": [
       "<Figure size 720x576 with 1 Axes>"
      ]
     },
     "metadata": {},
     "output_type": "display_data"
    }
   ],
   "source": [
    "plt.figure(figsize=(10,8))\n",
    "sns.residplot(y='quality',x='volatile acidity',data=df,lowess=True)"
   ]
  },
  {
   "cell_type": "code",
   "execution_count": 6,
   "metadata": {
    "scrolled": false
   },
   "outputs": [
    {
     "data": {
      "text/plain": [
       "<matplotlib.axes._subplots.AxesSubplot at 0x7f69afb5a780>"
      ]
     },
     "execution_count": 6,
     "metadata": {},
     "output_type": "execute_result"
    },
    {
     "data": {
      "image/png": "[encoded data removed]",
      "text/plain": [
       "<Figure size 720x576 with 1 Axes>"
      ]
     },
     "metadata": {},
     "output_type": "display_data"
    }
   ],
   "source": [
    "plt.figure(figsize=(10,8))\n",
    "sns.residplot(y='quality',x='citric acid',data=df,lowess=True)"
   ]
  },
  {
   "cell_type": "code",
   "execution_count": 7,
   "metadata": {},
   "outputs": [
    {
     "data": {
      "text/plain": [
       "<matplotlib.axes._subplots.AxesSubplot at 0x7f69a80da748>"
      ]
     },
     "execution_count": 7,
     "metadata": {},
     "output_type": "execute_result"
    },
    {
     "data": {
      "image/png": "[encoded data removed]",
      "text/plain": [
       "<Figure size 720x576 with 1 Axes>"
      ]
     },
     "metadata": {},
     "output_type": "display_data"
    }
   ],
   "source": [
    "plt.figure(figsize=(10,8))\n",
    "\n",
    "sns.residplot(y='quality',x='residual sugar',data=df,lowess=True)"
   ]
  },
  {
   "cell_type": "markdown",
   "metadata": {},
   "source": [
    "### Creating Independent and Dependent Variables"
   ]
  },
  {
   "cell_type": "code",
   "execution_count": 8,
   "metadata": {},
   "outputs": [
    {
     "name": "stdout",
     "output_type": "stream",
     "text": [
      "(4898, 11) (4898, 1)\n"
     ]
    }
   ],
   "source": [
    "X = df.drop('quality', axis=1)\n",
    "Y = df[['quality']]\n",
    "print(X.shape, Y.shape)"
   ]
  },
  {
   "cell_type": "markdown",
   "metadata": {},
   "source": [
    "### Normalizing Data"
   ]
  },
  {
   "cell_type": "code",
   "execution_count": 9,
   "metadata": {},
   "outputs": [
    {
     "data": {
      "text/html": [
       "<div>\n",
       "<style scoped>\n",
       "    .dataframe tbody tr th:only-of-type {\n",
       "        vertical-align: middle;\n",
       "    }\n",
       "\n",
       "    .dataframe tbody tr th {\n",
       "        vertical-align: top;\n",
       "    }\n",
       "\n",
       "    .dataframe thead th {\n",
       "        text-align: right;\n",
       "    }\n",
       "</style>\n",
       "<table border=\"1\" class=\"dataframe\">\n",
       "  <thead>\n",
       "    <tr style=\"text-align: right;\">\n",
       "      <th></th>\n",
       "      <th>fixed acidity</th>\n",
       "      <th>volatile acidity</th>\n",
       "      <th>citric acid</th>\n",
       "      <th>residual sugar</th>\n",
       "      <th>chlorides</th>\n",
       "      <th>free sulfur dioxide</th>\n",
       "      <th>total sulfur dioxide</th>\n",
       "      <th>density</th>\n",
       "      <th>pH</th>\n",
       "      <th>sulphates</th>\n",
       "      <th>alcohol</th>\n",
       "    </tr>\n",
       "  </thead>\n",
       "  <tbody>\n",
       "    <tr>\n",
       "      <th>0</th>\n",
       "      <td>0.172097</td>\n",
       "      <td>-0.081770</td>\n",
       "      <td>0.213280</td>\n",
       "      <td>2.821349</td>\n",
       "      <td>-0.035355</td>\n",
       "      <td>0.569932</td>\n",
       "      <td>0.744565</td>\n",
       "      <td>2.331512</td>\n",
       "      <td>-1.246921</td>\n",
       "      <td>-0.349184</td>\n",
       "      <td>-1.393152</td>\n",
       "    </tr>\n",
       "    <tr>\n",
       "      <th>1</th>\n",
       "      <td>-0.657501</td>\n",
       "      <td>0.215896</td>\n",
       "      <td>0.048001</td>\n",
       "      <td>-0.944765</td>\n",
       "      <td>0.147747</td>\n",
       "      <td>-1.253019</td>\n",
       "      <td>-0.149685</td>\n",
       "      <td>-0.009154</td>\n",
       "      <td>0.740029</td>\n",
       "      <td>0.001342</td>\n",
       "      <td>-0.824276</td>\n",
       "    </tr>\n",
       "    <tr>\n",
       "      <th>2</th>\n",
       "      <td>1.475751</td>\n",
       "      <td>0.017452</td>\n",
       "      <td>0.543838</td>\n",
       "      <td>0.100282</td>\n",
       "      <td>0.193523</td>\n",
       "      <td>-0.312141</td>\n",
       "      <td>-0.973336</td>\n",
       "      <td>0.358665</td>\n",
       "      <td>0.475102</td>\n",
       "      <td>-0.436816</td>\n",
       "      <td>-0.336667</td>\n",
       "    </tr>\n",
       "    <tr>\n",
       "      <th>3</th>\n",
       "      <td>0.409125</td>\n",
       "      <td>-0.478657</td>\n",
       "      <td>-0.117278</td>\n",
       "      <td>0.415768</td>\n",
       "      <td>0.559727</td>\n",
       "      <td>0.687541</td>\n",
       "      <td>1.121091</td>\n",
       "      <td>0.525855</td>\n",
       "      <td>0.011480</td>\n",
       "      <td>-0.787342</td>\n",
       "      <td>-0.499203</td>\n",
       "    </tr>\n",
       "    <tr>\n",
       "      <th>4</th>\n",
       "      <td>0.409125</td>\n",
       "      <td>-0.478657</td>\n",
       "      <td>-0.117278</td>\n",
       "      <td>0.415768</td>\n",
       "      <td>0.559727</td>\n",
       "      <td>0.687541</td>\n",
       "      <td>1.121091</td>\n",
       "      <td>0.525855</td>\n",
       "      <td>0.011480</td>\n",
       "      <td>-0.787342</td>\n",
       "      <td>-0.499203</td>\n",
       "    </tr>\n",
       "  </tbody>\n",
       "</table>\n",
       "</div>"
      ],
      "text/plain": [
       "   fixed acidity  volatile acidity  citric acid  residual sugar  chlorides  \\\n",
       "0       0.172097         -0.081770     0.213280        2.821349  -0.035355   \n",
       "1      -0.657501          0.215896     0.048001       -0.944765   0.147747   \n",
       "2       1.475751          0.017452     0.543838        0.100282   0.193523   \n",
       "3       0.409125         -0.478657    -0.117278        0.415768   0.559727   \n",
       "4       0.409125         -0.478657    -0.117278        0.415768   0.559727   \n",
       "\n",
       "   free sulfur dioxide  total sulfur dioxide   density        pH  sulphates  \\\n",
       "0             0.569932              0.744565  2.331512 -1.246921  -0.349184   \n",
       "1            -1.253019             -0.149685 -0.009154  0.740029   0.001342   \n",
       "2            -0.312141             -0.973336  0.358665  0.475102  -0.436816   \n",
       "3             0.687541              1.121091  0.525855  0.011480  -0.787342   \n",
       "4             0.687541              1.121091  0.525855  0.011480  -0.787342   \n",
       "\n",
       "    alcohol  \n",
       "0 -1.393152  \n",
       "1 -0.824276  \n",
       "2 -0.336667  \n",
       "3 -0.499203  \n",
       "4 -0.499203  "
      ]
     },
     "execution_count": 9,
     "metadata": {},
     "output_type": "execute_result"
    }
   ],
   "source": [
    "scaler = StandardScaler()\n",
    "scaler.fit(X)\n",
    "X_ = scaler.transform(X)\n",
    "X = pd.DataFrame(data=X_, columns = X.columns)\n",
    "X.head()"
   ]
  },
  {
   "cell_type": "markdown",
   "metadata": {},
   "source": [
    "### Splitting Data"
   ]
  },
  {
   "cell_type": "code",
   "execution_count": 10,
   "metadata": {},
   "outputs": [
    {
     "name": "stdout",
     "output_type": "stream",
     "text": [
      "(3428, 11) (3428, 1)\n",
      "(1470, 11) (1470, 1)\n"
     ]
    }
   ],
   "source": [
    "xtrain ,xtest, ytrain, ytest = train_test_split(X.values, Y.values, test_size=0.3)\n",
    "print(xtrain.shape, ytrain.shape)\n",
    "print(xtest.shape, ytest.shape)"
   ]
  },
  {
   "cell_type": "markdown",
   "metadata": {},
   "source": [
    "### Applying Linear Regression"
   ]
  },
  {
   "cell_type": "code",
   "execution_count": 11,
   "metadata": {},
   "outputs": [],
   "source": [
    "model = LinearRegression(fit_intercept=True, n_jobs =1)"
   ]
  },
  {
   "cell_type": "code",
   "execution_count": 12,
   "metadata": {},
   "outputs": [
    {
     "data": {
      "text/plain": [
       "LinearRegression(copy_X=True, fit_intercept=True, n_jobs=1, normalize=False)"
      ]
     },
     "execution_count": 12,
     "metadata": {},
     "output_type": "execute_result"
    }
   ],
   "source": [
    "model.fit(xtrain, ytrain)"
   ]
  },
  {
   "cell_type": "code",
   "execution_count": 13,
   "metadata": {},
   "outputs": [
    {
     "data": {
      "text/plain": [
       "array([[ 0.04811472, -0.18483027,  0.00933174,  0.41558739, -0.0170498 ,\n",
       "         0.04493431, -0.00452208, -0.44794699,  0.10733228,  0.05868255,\n",
       "         0.23688335]])"
      ]
     },
     "execution_count": 13,
     "metadata": {},
     "output_type": "execute_result"
    }
   ],
   "source": [
    "model.coef_"
   ]
  },
  {
   "cell_type": "code",
   "execution_count": 14,
   "metadata": {},
   "outputs": [],
   "source": [
    "pred = model.predict(xtest)"
   ]
  },
  {
   "cell_type": "code",
   "execution_count": 15,
   "metadata": {},
   "outputs": [
    {
     "name": "stdout",
     "output_type": "stream",
     "text": [
      "[[5.98551239]\n",
      " [6.03466355]\n",
      " [5.14556403]\n",
      " [6.75687315]\n",
      " [5.33718688]]\n",
      "[[8]\n",
      " [6]\n",
      " [5]\n",
      " [7]\n",
      " [5]]\n"
     ]
    }
   ],
   "source": [
    "print(pred[:5])\n",
    "print(ytest[:5])"
   ]
  },
  {
   "cell_type": "code",
   "execution_count": 16,
   "metadata": {},
   "outputs": [
    {
     "data": {
      "text/plain": [
       "-1.6253854673816455"
      ]
     },
     "execution_count": 16,
     "metadata": {},
     "output_type": "execute_result"
    }
   ],
   "source": [
    "r2_score(pred, ytest)"
   ]
  },
  {
   "cell_type": "markdown",
   "metadata": {},
   "source": [
    "### Summary Statistics of non-Linear data"
   ]
  },
  {
   "cell_type": "code",
   "execution_count": 17,
   "metadata": {
    "scrolled": false
   },
   "outputs": [
    {
     "name": "stdout",
     "output_type": "stream",
     "text": [
      "                            OLS Regression Results                            \n",
      "==============================================================================\n",
      "Dep. Variable:                      y   R-squared:                       0.284\n",
      "Model:                            OLS   Adj. R-squared:                  0.282\n",
      "Method:                 Least Squares   F-statistic:                     123.1\n",
      "Date:                Thu, 11 Oct 2018   Prob (F-statistic):          4.11e-238\n",
      "Time:                        19:50:27   Log-Likelihood:                -3872.1\n",
      "No. Observations:                3428   AIC:                             7768.\n",
      "Df Residuals:                    3416   BIC:                             7842.\n",
      "Df Model:                          11                                         \n",
      "Covariance Type:            nonrobust                                         \n",
      "==============================================================================\n",
      "                 coef    std err          t      P>|t|      [0.025      0.975]\n",
      "------------------------------------------------------------------------------\n",
      "const          5.8721      0.013    458.140      0.000       5.847       5.897\n",
      "x1             0.0481      0.020      2.385      0.017       0.009       0.088\n",
      "x2            -0.1848      0.014    -13.608      0.000      -0.211      -0.158\n",
      "x3             0.0093      0.014      0.677      0.499      -0.018       0.036\n",
      "x4             0.4156      0.043      9.565      0.000       0.330       0.501\n",
      "x5            -0.0170      0.014     -1.182      0.237      -0.045       0.011\n",
      "x6             0.0449      0.017      2.625      0.009       0.011       0.078\n",
      "x7            -0.0045      0.019     -0.235      0.814      -0.042       0.033\n",
      "x8            -0.4479      0.063     -7.084      0.000      -0.572      -0.324\n",
      "x9             0.1073      0.019      5.793      0.000       0.071       0.144\n",
      "x10            0.0587      0.013      4.354      0.000       0.032       0.085\n",
      "x11            0.2369      0.033      7.114      0.000       0.172       0.302\n",
      "==============================================================================\n",
      "Omnibus:                       84.837   Durbin-Watson:                   2.022\n",
      "Prob(Omnibus):                  0.000   Jarque-Bera (JB):              196.747\n",
      "Skew:                          -0.034   Prob(JB):                     1.89e-43\n",
      "Kurtosis:                       4.172   Cond. No.                         11.7\n",
      "==============================================================================\n",
      "\n",
      "Warnings:\n",
      "[1] Standard Errors assume that the covariance matrix of the errors is correctly specified.\n"
     ]
    }
   ],
   "source": [
    "import statsmodels.api as sm\n",
    "\n",
    "x = xtrain\n",
    "y = ytrain\n",
    "\n",
    "X2 = sm.add_constant(x)\n",
    "est = sm.OLS(y, X2)\n",
    "est2 = est.fit()\n",
    "print(est2.summary())"
   ]
  },
  {
   "cell_type": "markdown",
   "metadata": {},
   "source": [
    "## Linear Data"
   ]
  },
  {
   "cell_type": "code",
   "execution_count": 18,
   "metadata": {},
   "outputs": [
    {
     "name": "stdout",
     "output_type": "stream",
     "text": [
      "(21613, 21)\n",
      "id               0\n",
      "date             0\n",
      "price            0\n",
      "bedrooms         0\n",
      "bathrooms        0\n",
      "sqft_living      0\n",
      "sqft_lot         0\n",
      "floors           0\n",
      "waterfront       0\n",
      "view             0\n",
      "condition        0\n",
      "grade            0\n",
      "sqft_above       0\n",
      "sqft_basement    0\n",
      "yr_built         0\n",
      "yr_renovated     0\n",
      "zipcode          0\n",
      "lat              0\n",
      "long             0\n",
      "sqft_living15    0\n",
      "sqft_lot15       0\n",
      "dtype: int64\n"
     ]
    },
    {
     "data": {
      "text/html": [
       "<div>\n",
       "<style scoped>\n",
       "    .dataframe tbody tr th:only-of-type {\n",
       "        vertical-align: middle;\n",
       "    }\n",
       "\n",
       "    .dataframe tbody tr th {\n",
       "        vertical-align: top;\n",
       "    }\n",
       "\n",
       "    .dataframe thead th {\n",
       "        text-align: right;\n",
       "    }\n",
       "</style>\n",
       "<table border=\"1\" class=\"dataframe\">\n",
       "  <thead>\n",
       "    <tr style=\"text-align: right;\">\n",
       "      <th></th>\n",
       "      <th>id</th>\n",
       "      <th>date</th>\n",
       "      <th>price</th>\n",
       "      <th>bedrooms</th>\n",
       "      <th>bathrooms</th>\n",
       "      <th>sqft_living</th>\n",
       "      <th>sqft_lot</th>\n",
       "      <th>floors</th>\n",
       "      <th>waterfront</th>\n",
       "      <th>view</th>\n",
       "      <th>...</th>\n",
       "      <th>grade</th>\n",
       "      <th>sqft_above</th>\n",
       "      <th>sqft_basement</th>\n",
       "      <th>yr_built</th>\n",
       "      <th>yr_renovated</th>\n",
       "      <th>zipcode</th>\n",
       "      <th>lat</th>\n",
       "      <th>long</th>\n",
       "      <th>sqft_living15</th>\n",
       "      <th>sqft_lot15</th>\n",
       "    </tr>\n",
       "  </thead>\n",
       "  <tbody>\n",
       "    <tr>\n",
       "      <th>0</th>\n",
       "      <td>7129300520</td>\n",
       "      <td>20141013T000000</td>\n",
       "      <td>221900.0</td>\n",
       "      <td>3</td>\n",
       "      <td>1.00</td>\n",
       "      <td>1180</td>\n",
       "      <td>5650</td>\n",
       "      <td>1.0</td>\n",
       "      <td>0</td>\n",
       "      <td>0</td>\n",
       "      <td>...</td>\n",
       "      <td>7</td>\n",
       "      <td>1180</td>\n",
       "      <td>0</td>\n",
       "      <td>1955</td>\n",
       "      <td>0</td>\n",
       "      <td>98178</td>\n",
       "      <td>47.5112</td>\n",
       "      <td>-122.257</td>\n",
       "      <td>1340</td>\n",
       "      <td>5650</td>\n",
       "    </tr>\n",
       "    <tr>\n",
       "      <th>1</th>\n",
       "      <td>6414100192</td>\n",
       "      <td>20141209T000000</td>\n",
       "      <td>538000.0</td>\n",
       "      <td>3</td>\n",
       "      <td>2.25</td>\n",
       "      <td>2570</td>\n",
       "      <td>7242</td>\n",
       "      <td>2.0</td>\n",
       "      <td>0</td>\n",
       "      <td>0</td>\n",
       "      <td>...</td>\n",
       "      <td>7</td>\n",
       "      <td>2170</td>\n",
       "      <td>400</td>\n",
       "      <td>1951</td>\n",
       "      <td>1991</td>\n",
       "      <td>98125</td>\n",
       "      <td>47.7210</td>\n",
       "      <td>-122.319</td>\n",
       "      <td>1690</td>\n",
       "      <td>7639</td>\n",
       "    </tr>\n",
       "    <tr>\n",
       "      <th>2</th>\n",
       "      <td>5631500400</td>\n",
       "      <td>20150225T000000</td>\n",
       "      <td>180000.0</td>\n",
       "      <td>2</td>\n",
       "      <td>1.00</td>\n",
       "      <td>770</td>\n",
       "      <td>10000</td>\n",
       "      <td>1.0</td>\n",
       "      <td>0</td>\n",
       "      <td>0</td>\n",
       "      <td>...</td>\n",
       "      <td>6</td>\n",
       "      <td>770</td>\n",
       "      <td>0</td>\n",
       "      <td>1933</td>\n",
       "      <td>0</td>\n",
       "      <td>98028</td>\n",
       "      <td>47.7379</td>\n",
       "      <td>-122.233</td>\n",
       "      <td>2720</td>\n",
       "      <td>8062</td>\n",
       "    </tr>\n",
       "    <tr>\n",
       "      <th>3</th>\n",
       "      <td>2487200875</td>\n",
       "      <td>20141209T000000</td>\n",
       "      <td>604000.0</td>\n",
       "      <td>4</td>\n",
       "      <td>3.00</td>\n",
       "      <td>1960</td>\n",
       "      <td>5000</td>\n",
       "      <td>1.0</td>\n",
       "      <td>0</td>\n",
       "      <td>0</td>\n",
       "      <td>...</td>\n",
       "      <td>7</td>\n",
       "      <td>1050</td>\n",
       "      <td>910</td>\n",
       "      <td>1965</td>\n",
       "      <td>0</td>\n",
       "      <td>98136</td>\n",
       "      <td>47.5208</td>\n",
       "      <td>-122.393</td>\n",
       "      <td>1360</td>\n",
       "      <td>5000</td>\n",
       "    </tr>\n",
       "    <tr>\n",
       "      <th>4</th>\n",
       "      <td>1954400510</td>\n",
       "      <td>20150218T000000</td>\n",
       "      <td>510000.0</td>\n",
       "      <td>3</td>\n",
       "      <td>2.00</td>\n",
       "      <td>1680</td>\n",
       "      <td>8080</td>\n",
       "      <td>1.0</td>\n",
       "      <td>0</td>\n",
       "      <td>0</td>\n",
       "      <td>...</td>\n",
       "      <td>8</td>\n",
       "      <td>1680</td>\n",
       "      <td>0</td>\n",
       "      <td>1987</td>\n",
       "      <td>0</td>\n",
       "      <td>98074</td>\n",
       "      <td>47.6168</td>\n",
       "      <td>-122.045</td>\n",
       "      <td>1800</td>\n",
       "      <td>7503</td>\n",
       "    </tr>\n",
       "  </tbody>\n",
       "</table>\n",
       "<p>5 rows × 21 columns</p>\n",
       "</div>"
      ],
      "text/plain": [
       "           id             date     price  bedrooms  bathrooms  sqft_living  \\\n",
       "0  7129300520  20141013T000000  221900.0         3       1.00         1180   \n",
       "1  6414100192  20141209T000000  538000.0         3       2.25         2570   \n",
       "2  5631500400  20150225T000000  180000.0         2       1.00          770   \n",
       "3  2487200875  20141209T000000  604000.0         4       3.00         1960   \n",
       "4  1954400510  20150218T000000  510000.0         3       2.00         1680   \n",
       "\n",
       "   sqft_lot  floors  waterfront  view     ...      grade  sqft_above  \\\n",
       "0      5650     1.0           0     0     ...          7        1180   \n",
       "1      7242     2.0           0     0     ...          7        2170   \n",
       "2     10000     1.0           0     0     ...          6         770   \n",
       "3      5000     1.0           0     0     ...          7        1050   \n",
       "4      8080     1.0           0     0     ...          8        1680   \n",
       "\n",
       "   sqft_basement  yr_built  yr_renovated  zipcode      lat     long  \\\n",
       "0              0      1955             0    98178  47.5112 -122.257   \n",
       "1            400      1951          1991    98125  47.7210 -122.319   \n",
       "2              0      1933             0    98028  47.7379 -122.233   \n",
       "3            910      1965             0    98136  47.5208 -122.393   \n",
       "4              0      1987             0    98074  47.6168 -122.045   \n",
       "\n",
       "   sqft_living15  sqft_lot15  \n",
       "0           1340        5650  \n",
       "1           1690        7639  \n",
       "2           2720        8062  \n",
       "3           1360        5000  \n",
       "4           1800        7503  \n",
       "\n",
       "[5 rows x 21 columns]"
      ]
     },
     "execution_count": 18,
     "metadata": {},
     "output_type": "execute_result"
    }
   ],
   "source": [
    "data = pd.read_csv('kc_house_data.csv')\n",
    "df = data.copy()\n",
    "print(df.shape)\n",
    "print(df.isnull().sum())\n",
    "df.head()"
   ]
  },
  {
   "cell_type": "markdown",
   "metadata": {},
   "source": [
    "### Residual Plots\n",
    "Checking the linearity of the data"
   ]
  },
  {
   "cell_type": "code",
   "execution_count": 19,
   "metadata": {
    "scrolled": false
   },
   "outputs": [
    {
     "data": {
      "image/png": "[encoded data removed]",
      "text/plain": [
       "<Figure size 720x576 with 1 Axes>"
      ]
     },
     "metadata": {},
     "output_type": "display_data"
    }
   ],
   "source": [
    "plt.figure(figsize=(10,8))\n",
    "\n",
    "sns.residplot(x='sqft_living',y='price',data=df,lowess=True);"
   ]
  },
  {
   "cell_type": "code",
   "execution_count": 20,
   "metadata": {
    "scrolled": false
   },
   "outputs": [
    {
     "data": {
      "image/png": "[encoded data removed]",
      "text/plain": [
       "<Figure size 720x576 with 1 Axes>"
      ]
     },
     "metadata": {},
     "output_type": "display_data"
    }
   ],
   "source": [
    "plt.figure(figsize=(10,8))\n",
    "\n",
    "sns.residplot(x='sqft_above',y='price',data=df,lowess=True);"
   ]
  },
  {
   "cell_type": "code",
   "execution_count": 21,
   "metadata": {
    "scrolled": false
   },
   "outputs": [
    {
     "data": {
      "image/png": "[encoded data removed]",
      "text/plain": [
       "<Figure size 720x576 with 1 Axes>"
      ]
     },
     "metadata": {},
     "output_type": "display_data"
    }
   ],
   "source": [
    "plt.figure(figsize=(10,8))\n",
    "sns.residplot(x='sqft_basement',y='price',data=df,lowess=True);"
   ]
  },
  {
   "cell_type": "markdown",
   "metadata": {},
   "source": [
    "### Creating Independent and Dependent Variables"
   ]
  },
  {
   "cell_type": "code",
   "execution_count": 22,
   "metadata": {},
   "outputs": [
    {
     "name": "stdout",
     "output_type": "stream",
     "text": [
      "(21613, 18)\n",
      "(21613, 1)\n"
     ]
    }
   ],
   "source": [
    "X1 = df.drop(['id', 'date', 'price'], axis=1)\n",
    "Y1 = df[['price']]\n",
    "print(X1.shape)\n",
    "print(Y1.shape)"
   ]
  },
  {
   "cell_type": "code",
   "execution_count": 23,
   "metadata": {},
   "outputs": [
    {
     "data": {
      "text/plain": [
       "bedrooms           int64\n",
       "bathrooms        float64\n",
       "sqft_living        int64\n",
       "sqft_lot           int64\n",
       "floors           float64\n",
       "waterfront         int64\n",
       "view               int64\n",
       "condition          int64\n",
       "grade              int64\n",
       "sqft_above         int64\n",
       "sqft_basement      int64\n",
       "yr_built           int64\n",
       "yr_renovated       int64\n",
       "zipcode            int64\n",
       "lat              float64\n",
       "long             float64\n",
       "sqft_living15      int64\n",
       "sqft_lot15         int64\n",
       "dtype: object"
      ]
     },
     "execution_count": 23,
     "metadata": {},
     "output_type": "execute_result"
    }
   ],
   "source": [
    "X1.dtypes"
   ]
  },
  {
   "cell_type": "markdown",
   "metadata": {},
   "source": [
    "### Normalization"
   ]
  },
  {
   "cell_type": "code",
   "execution_count": 24,
   "metadata": {},
   "outputs": [
    {
     "data": {
      "text/html": [
       "<div>\n",
       "<style scoped>\n",
       "    .dataframe tbody tr th:only-of-type {\n",
       "        vertical-align: middle;\n",
       "    }\n",
       "\n",
       "    .dataframe tbody tr th {\n",
       "        vertical-align: top;\n",
       "    }\n",
       "\n",
       "    .dataframe thead th {\n",
       "        text-align: right;\n",
       "    }\n",
       "</style>\n",
       "<table border=\"1\" class=\"dataframe\">\n",
       "  <thead>\n",
       "    <tr style=\"text-align: right;\">\n",
       "      <th></th>\n",
       "      <th>bedrooms</th>\n",
       "      <th>bathrooms</th>\n",
       "      <th>sqft_living</th>\n",
       "      <th>sqft_lot</th>\n",
       "      <th>floors</th>\n",
       "      <th>waterfront</th>\n",
       "      <th>view</th>\n",
       "      <th>condition</th>\n",
       "      <th>grade</th>\n",
       "      <th>sqft_above</th>\n",
       "      <th>sqft_basement</th>\n",
       "      <th>yr_built</th>\n",
       "      <th>yr_renovated</th>\n",
       "      <th>zipcode</th>\n",
       "      <th>lat</th>\n",
       "      <th>long</th>\n",
       "      <th>sqft_living15</th>\n",
       "      <th>sqft_lot15</th>\n",
       "    </tr>\n",
       "  </thead>\n",
       "  <tbody>\n",
       "    <tr>\n",
       "      <th>0</th>\n",
       "      <td>-0.398737</td>\n",
       "      <td>-1.447464</td>\n",
       "      <td>-0.979835</td>\n",
       "      <td>-0.228321</td>\n",
       "      <td>-0.915427</td>\n",
       "      <td>-0.087173</td>\n",
       "      <td>-0.305759</td>\n",
       "      <td>-0.629187</td>\n",
       "      <td>-0.558836</td>\n",
       "      <td>-0.734708</td>\n",
       "      <td>-0.658681</td>\n",
       "      <td>-0.544898</td>\n",
       "      <td>-0.210128</td>\n",
       "      <td>1.870152</td>\n",
       "      <td>-0.352572</td>\n",
       "      <td>-0.306079</td>\n",
       "      <td>-0.943355</td>\n",
       "      <td>-0.260715</td>\n",
       "    </tr>\n",
       "    <tr>\n",
       "      <th>1</th>\n",
       "      <td>-0.398737</td>\n",
       "      <td>0.175607</td>\n",
       "      <td>0.533634</td>\n",
       "      <td>-0.189885</td>\n",
       "      <td>0.936506</td>\n",
       "      <td>-0.087173</td>\n",
       "      <td>-0.305759</td>\n",
       "      <td>-0.629187</td>\n",
       "      <td>-0.558836</td>\n",
       "      <td>0.460841</td>\n",
       "      <td>0.245141</td>\n",
       "      <td>-0.681079</td>\n",
       "      <td>4.746678</td>\n",
       "      <td>0.879568</td>\n",
       "      <td>1.161568</td>\n",
       "      <td>-0.746341</td>\n",
       "      <td>-0.432686</td>\n",
       "      <td>-0.187868</td>\n",
       "    </tr>\n",
       "    <tr>\n",
       "      <th>2</th>\n",
       "      <td>-1.473959</td>\n",
       "      <td>-1.447464</td>\n",
       "      <td>-1.426254</td>\n",
       "      <td>-0.123298</td>\n",
       "      <td>-0.915427</td>\n",
       "      <td>-0.087173</td>\n",
       "      <td>-0.305759</td>\n",
       "      <td>-0.629187</td>\n",
       "      <td>-1.409587</td>\n",
       "      <td>-1.229834</td>\n",
       "      <td>-0.658681</td>\n",
       "      <td>-1.293892</td>\n",
       "      <td>-0.210128</td>\n",
       "      <td>-0.933388</td>\n",
       "      <td>1.283537</td>\n",
       "      <td>-0.135655</td>\n",
       "      <td>1.070140</td>\n",
       "      <td>-0.172375</td>\n",
       "    </tr>\n",
       "    <tr>\n",
       "      <th>3</th>\n",
       "      <td>0.676485</td>\n",
       "      <td>1.149449</td>\n",
       "      <td>-0.130550</td>\n",
       "      <td>-0.244014</td>\n",
       "      <td>-0.915427</td>\n",
       "      <td>-0.087173</td>\n",
       "      <td>-0.305759</td>\n",
       "      <td>2.444294</td>\n",
       "      <td>-0.558836</td>\n",
       "      <td>-0.891699</td>\n",
       "      <td>1.397515</td>\n",
       "      <td>-0.204446</td>\n",
       "      <td>-0.210128</td>\n",
       "      <td>1.085160</td>\n",
       "      <td>-0.283288</td>\n",
       "      <td>-1.271816</td>\n",
       "      <td>-0.914174</td>\n",
       "      <td>-0.284522</td>\n",
       "    </tr>\n",
       "    <tr>\n",
       "      <th>4</th>\n",
       "      <td>-0.398737</td>\n",
       "      <td>-0.149007</td>\n",
       "      <td>-0.435422</td>\n",
       "      <td>-0.169653</td>\n",
       "      <td>-0.915427</td>\n",
       "      <td>-0.087173</td>\n",
       "      <td>-0.305759</td>\n",
       "      <td>-0.629187</td>\n",
       "      <td>0.291916</td>\n",
       "      <td>-0.130895</td>\n",
       "      <td>-0.658681</td>\n",
       "      <td>0.544548</td>\n",
       "      <td>-0.210128</td>\n",
       "      <td>-0.073636</td>\n",
       "      <td>0.409550</td>\n",
       "      <td>1.199335</td>\n",
       "      <td>-0.272190</td>\n",
       "      <td>-0.192849</td>\n",
       "    </tr>\n",
       "  </tbody>\n",
       "</table>\n",
       "</div>"
      ],
      "text/plain": [
       "   bedrooms  bathrooms  sqft_living  sqft_lot    floors  waterfront      view  \\\n",
       "0 -0.398737  -1.447464    -0.979835 -0.228321 -0.915427   -0.087173 -0.305759   \n",
       "1 -0.398737   0.175607     0.533634 -0.189885  0.936506   -0.087173 -0.305759   \n",
       "2 -1.473959  -1.447464    -1.426254 -0.123298 -0.915427   -0.087173 -0.305759   \n",
       "3  0.676485   1.149449    -0.130550 -0.244014 -0.915427   -0.087173 -0.305759   \n",
       "4 -0.398737  -0.149007    -0.435422 -0.169653 -0.915427   -0.087173 -0.305759   \n",
       "\n",
       "   condition     grade  sqft_above  sqft_basement  yr_built  yr_renovated  \\\n",
       "0  -0.629187 -0.558836   -0.734708      -0.658681 -0.544898     -0.210128   \n",
       "1  -0.629187 -0.558836    0.460841       0.245141 -0.681079      4.746678   \n",
       "2  -0.629187 -1.409587   -1.229834      -0.658681 -1.293892     -0.210128   \n",
       "3   2.444294 -0.558836   -0.891699       1.397515 -0.204446     -0.210128   \n",
       "4  -0.629187  0.291916   -0.130895      -0.658681  0.544548     -0.210128   \n",
       "\n",
       "    zipcode       lat      long  sqft_living15  sqft_lot15  \n",
       "0  1.870152 -0.352572 -0.306079      -0.943355   -0.260715  \n",
       "1  0.879568  1.161568 -0.746341      -0.432686   -0.187868  \n",
       "2 -0.933388  1.283537 -0.135655       1.070140   -0.172375  \n",
       "3  1.085160 -0.283288 -1.271816      -0.914174   -0.284522  \n",
       "4 -0.073636  0.409550  1.199335      -0.272190   -0.192849  "
      ]
     },
     "execution_count": 24,
     "metadata": {},
     "output_type": "execute_result"
    }
   ],
   "source": [
    "scaler = StandardScaler().fit(X1)\n",
    "X_ = scaler.transform(X1)\n",
    "X1 = pd.DataFrame(data=X_, columns = X1.columns)\n",
    "frw_sel=X1.copy()\n",
    "X1.head()"
   ]
  },
  {
   "cell_type": "markdown",
   "metadata": {},
   "source": [
    "### Train Test Splitting"
   ]
  },
  {
   "cell_type": "code",
   "execution_count": 25,
   "metadata": {},
   "outputs": [
    {
     "name": "stdout",
     "output_type": "stream",
     "text": [
      "(15129, 18) (15129, 1)\n",
      "(6484, 18) (6484, 1)\n"
     ]
    }
   ],
   "source": [
    "xtrain ,xtest, ytrain, ytest = train_test_split(X1.values, Y1.values, test_size=0.30)\n",
    "print(xtrain.shape, ytrain.shape)\n",
    "print(xtest.shape, ytest.shape)"
   ]
  },
  {
   "cell_type": "markdown",
   "metadata": {},
   "source": [
    "### Training Model, Predicting & Testing"
   ]
  },
  {
   "cell_type": "code",
   "execution_count": 26,
   "metadata": {},
   "outputs": [],
   "source": [
    "model = LinearRegression(fit_intercept=True, n_jobs =1).fit(xtrain, ytrain)"
   ]
  },
  {
   "cell_type": "code",
   "execution_count": 27,
   "metadata": {},
   "outputs": [],
   "source": [
    "pred = model.predict(xtest)"
   ]
  },
  {
   "cell_type": "code",
   "execution_count": 28,
   "metadata": {},
   "outputs": [
    {
     "name": "stdout",
     "output_type": "stream",
     "text": [
      "[[436164.34841026]\n",
      " [474849.82250211]\n",
      " [261159.79006888]\n",
      " [425557.82245914]\n",
      " [215497.47088117]]\n",
      "[[531800.]\n",
      " [415000.]\n",
      " [199950.]\n",
      " [425000.]\n",
      " [264950.]]\n"
     ]
    }
   ],
   "source": [
    "print(pred[:5])\n",
    "print(ytest[:5])"
   ]
  },
  {
   "cell_type": "markdown",
   "metadata": {},
   "source": [
    "**Checking r2 by sklearn metric**"
   ]
  },
  {
   "cell_type": "code",
   "execution_count": 29,
   "metadata": {},
   "outputs": [
    {
     "data": {
      "text/plain": [
       "0.6819326660094427"
      ]
     },
     "execution_count": 29,
     "metadata": {},
     "output_type": "execute_result"
    }
   ],
   "source": [
    "r2_score(ytest,pred)"
   ]
  },
  {
   "cell_type": "markdown",
   "metadata": {},
   "source": [
    "### SSR, SSE, R2, Adjusted R2 Calculation"
   ]
  },
  {
   "cell_type": "code",
   "execution_count": 30,
   "metadata": {},
   "outputs": [
    {
     "data": {
      "text/plain": [
       "278287916998033.3"
      ]
     },
     "execution_count": 30,
     "metadata": {},
     "output_type": "execute_result"
    }
   ],
   "source": [
    "sse = np.sum((pred - ytest)**2)\n",
    "sse"
   ]
  },
  {
   "cell_type": "code",
   "execution_count": 31,
   "metadata": {},
   "outputs": [
    {
     "data": {
      "text/plain": [
       "609854974974174.9"
      ]
     },
     "execution_count": 31,
     "metadata": {},
     "output_type": "execute_result"
    }
   ],
   "source": [
    "ssr = np.sum((pred - ytest.mean())**2)\n",
    "ssr"
   ]
  },
  {
   "cell_type": "code",
   "execution_count": 32,
   "metadata": {},
   "outputs": [
    {
     "data": {
      "text/plain": [
       "888142891972208.2"
      ]
     },
     "execution_count": 32,
     "metadata": {},
     "output_type": "execute_result"
    }
   ],
   "source": [
    "sst = ssr + sse\n",
    "sst"
   ]
  },
  {
   "cell_type": "code",
   "execution_count": 33,
   "metadata": {},
   "outputs": [
    {
     "data": {
      "text/plain": [
       "0.6866631264930041"
      ]
     },
     "execution_count": 33,
     "metadata": {},
     "output_type": "execute_result"
    }
   ],
   "source": [
    "r2 = ssr/sst\n",
    "r2"
   ]
  },
  {
   "cell_type": "code",
   "execution_count": 34,
   "metadata": {},
   "outputs": [
    {
     "data": {
      "text/plain": [
       "0.6857907268451888"
      ]
     },
     "execution_count": 34,
     "metadata": {},
     "output_type": "execute_result"
    }
   ],
   "source": [
    "n = len(ytest)\n",
    "k = xtest.shape[-1]\n",
    "adj_r2 = 1 - ((1 - r2)*(n - 1)) / (n - k -1)\n",
    "adj_r2"
   ]
  },
  {
   "cell_type": "markdown",
   "metadata": {},
   "source": [
    "## Summary Statistics"
   ]
  },
  {
   "cell_type": "code",
   "execution_count": 35,
   "metadata": {},
   "outputs": [
    {
     "name": "stdout",
     "output_type": "stream",
     "text": [
      "                            OLS Regression Results                            \n",
      "==============================================================================\n",
      "Dep. Variable:                      y   R-squared:                       0.707\n",
      "Model:                            OLS   Adj. R-squared:                  0.706\n",
      "Method:                 Least Squares   F-statistic:                     2140.\n",
      "Date:                Thu, 11 Oct 2018   Prob (F-statistic):               0.00\n",
      "Time:                        19:50:32   Log-Likelihood:            -2.0604e+05\n",
      "No. Observations:               15129   AIC:                         4.121e+05\n",
      "Df Residuals:                   15111   BIC:                         4.123e+05\n",
      "Df Model:                          17                                         \n",
      "Covariance Type:            nonrobust                                         \n",
      "==============================================================================\n",
      "                 coef    std err          t      P>|t|      [0.025      0.975]\n",
      "------------------------------------------------------------------------------\n",
      "const       5.411e+05   1617.659    334.518      0.000    5.38e+05    5.44e+05\n",
      "x1         -3.247e+04   2047.443    -15.860      0.000   -3.65e+04   -2.85e+04\n",
      "x2          3.126e+04   2950.802     10.593      0.000    2.55e+04     3.7e+04\n",
      "x3          7.986e+04   1867.482     42.762      0.000    7.62e+04    8.35e+04\n",
      "x4          9464.3938   2389.065      3.962      0.000    4781.537    1.41e+04\n",
      "x5          6330.4038   2298.205      2.754      0.006    1825.645    1.08e+04\n",
      "x6          5.783e+04   1768.702     32.697      0.000    5.44e+04    6.13e+04\n",
      "x7          3.613e+04   1963.545     18.400      0.000    3.23e+04       4e+04\n",
      "x8          1.753e+04   1811.928      9.674      0.000     1.4e+04    2.11e+04\n",
      "x9          1.138e+05   2983.692     38.129      0.000    1.08e+05     1.2e+05\n",
      "x10         7.311e+04   2002.072     36.515      0.000    6.92e+04     7.7e+04\n",
      "x11         2.894e+04   1847.161     15.665      0.000    2.53e+04    3.26e+04\n",
      "x12        -7.947e+04   2512.322    -31.631      0.000   -8.44e+04   -7.45e+04\n",
      "x13         9754.4599   1733.090      5.628      0.000    6357.395    1.32e+04\n",
      "x14        -3.334e+04   2084.589    -15.992      0.000   -3.74e+04   -2.92e+04\n",
      "x15         8.316e+04   1749.086     47.544      0.000    7.97e+04    8.66e+04\n",
      "x16        -2.807e+04   2160.267    -12.992      0.000   -3.23e+04   -2.38e+04\n",
      "x17         1.708e+04   2782.097      6.139      0.000    1.16e+04    2.25e+04\n",
      "x18        -1.257e+04   2386.419     -5.269      0.000   -1.73e+04   -7895.576\n",
      "==============================================================================\n",
      "Omnibus:                    12582.751   Durbin-Watson:                   1.985\n",
      "Prob(Omnibus):                  0.000   Jarque-Bera (JB):          1219774.987\n",
      "Skew:                           3.443   Prob(JB):                         0.00\n",
      "Kurtosis:                      46.446   Cond. No.                     1.04e+16\n",
      "==============================================================================\n",
      "\n",
      "Warnings:\n",
      "[1] Standard Errors assume that the covariance matrix of the errors is correctly specified.\n",
      "[2] The smallest eigenvalue is 7.26e-28. This might indicate that there are\n",
      "strong multicollinearity problems or that the design matrix is singular.\n"
     ]
    }
   ],
   "source": [
    "import statsmodels.api as sm\n",
    "\n",
    "xt = xtrain\n",
    "yt = ytrain\n",
    "\n",
    "X2 = sm.add_constant(xt)\n",
    "est = sm.OLS(yt, X2)\n",
    "est2 = est.fit()\n",
    "print(est2.summary())"
   ]
  },
  {
   "cell_type": "markdown",
   "metadata": {},
   "source": [
    "## Backward Elimination using p value"
   ]
  },
  {
   "cell_type": "code",
   "execution_count": 36,
   "metadata": {},
   "outputs": [],
   "source": [
    "X=np.append(arr = np.ones((len(xt),1)).astype(int), values = xt, axis = 1)"
   ]
  },
  {
   "cell_type": "code",
   "execution_count": 37,
   "metadata": {
    "scrolled": false
   },
   "outputs": [
    {
     "data": {
      "text/html": [
       "<table class=\"simpletable\">\n",
       "<caption>OLS Regression Results</caption>\n",
       "<tr>\n",
       "  <th>Dep. Variable:</th>            <td>y</td>        <th>  R-squared:         </th>  <td>   0.707</td>  \n",
       "</tr>\n",
       "<tr>\n",
       "  <th>Model:</th>                   <td>OLS</td>       <th>  Adj. R-squared:    </th>  <td>   0.706</td>  \n",
       "</tr>\n",
       "<tr>\n",
       "  <th>Method:</th>             <td>Least Squares</td>  <th>  F-statistic:       </th>  <td>   2140.</td>  \n",
       "</tr>\n",
       "<tr>\n",
       "  <th>Date:</th>             <td>Thu, 11 Oct 2018</td> <th>  Prob (F-statistic):</th>   <td>  0.00</td>   \n",
       "</tr>\n",
       "<tr>\n",
       "  <th>Time:</th>                 <td>19:50:32</td>     <th>  Log-Likelihood:    </th> <td>-2.0604e+05</td>\n",
       "</tr>\n",
       "<tr>\n",
       "  <th>No. Observations:</th>      <td> 15129</td>      <th>  AIC:               </th>  <td>4.121e+05</td> \n",
       "</tr>\n",
       "<tr>\n",
       "  <th>Df Residuals:</th>          <td> 15111</td>      <th>  BIC:               </th>  <td>4.123e+05</td> \n",
       "</tr>\n",
       "<tr>\n",
       "  <th>Df Model:</th>              <td>    17</td>      <th>                     </th>      <td> </td>     \n",
       "</tr>\n",
       "<tr>\n",
       "  <th>Covariance Type:</th>      <td>nonrobust</td>    <th>                     </th>      <td> </td>     \n",
       "</tr>\n",
       "</table>\n",
       "<table class=\"simpletable\">\n",
       "<tr>\n",
       "    <td></td>       <th>coef</th>     <th>std err</th>      <th>t</th>      <th>P>|t|</th>  <th>[0.025</th>    <th>0.975]</th>  \n",
       "</tr>\n",
       "<tr>\n",
       "  <th>const</th> <td> 5.411e+05</td> <td> 1617.659</td> <td>  334.518</td> <td> 0.000</td> <td> 5.38e+05</td> <td> 5.44e+05</td>\n",
       "</tr>\n",
       "<tr>\n",
       "  <th>x1</th>    <td>-3.247e+04</td> <td> 2047.443</td> <td>  -15.860</td> <td> 0.000</td> <td>-3.65e+04</td> <td>-2.85e+04</td>\n",
       "</tr>\n",
       "<tr>\n",
       "  <th>x2</th>    <td> 3.126e+04</td> <td> 2950.802</td> <td>   10.593</td> <td> 0.000</td> <td> 2.55e+04</td> <td>  3.7e+04</td>\n",
       "</tr>\n",
       "<tr>\n",
       "  <th>x3</th>    <td> 7.986e+04</td> <td> 1867.482</td> <td>   42.762</td> <td> 0.000</td> <td> 7.62e+04</td> <td> 8.35e+04</td>\n",
       "</tr>\n",
       "<tr>\n",
       "  <th>x4</th>    <td> 9464.3938</td> <td> 2389.065</td> <td>    3.962</td> <td> 0.000</td> <td> 4781.537</td> <td> 1.41e+04</td>\n",
       "</tr>\n",
       "<tr>\n",
       "  <th>x5</th>    <td> 6330.4038</td> <td> 2298.205</td> <td>    2.754</td> <td> 0.006</td> <td> 1825.645</td> <td> 1.08e+04</td>\n",
       "</tr>\n",
       "<tr>\n",
       "  <th>x6</th>    <td> 5.783e+04</td> <td> 1768.702</td> <td>   32.697</td> <td> 0.000</td> <td> 5.44e+04</td> <td> 6.13e+04</td>\n",
       "</tr>\n",
       "<tr>\n",
       "  <th>x7</th>    <td> 3.613e+04</td> <td> 1963.545</td> <td>   18.400</td> <td> 0.000</td> <td> 3.23e+04</td> <td>    4e+04</td>\n",
       "</tr>\n",
       "<tr>\n",
       "  <th>x8</th>    <td> 1.753e+04</td> <td> 1811.928</td> <td>    9.674</td> <td> 0.000</td> <td>  1.4e+04</td> <td> 2.11e+04</td>\n",
       "</tr>\n",
       "<tr>\n",
       "  <th>x9</th>    <td> 1.138e+05</td> <td> 2983.692</td> <td>   38.129</td> <td> 0.000</td> <td> 1.08e+05</td> <td>  1.2e+05</td>\n",
       "</tr>\n",
       "<tr>\n",
       "  <th>x10</th>   <td> 7.311e+04</td> <td> 2002.072</td> <td>   36.515</td> <td> 0.000</td> <td> 6.92e+04</td> <td>  7.7e+04</td>\n",
       "</tr>\n",
       "<tr>\n",
       "  <th>x11</th>   <td> 2.894e+04</td> <td> 1847.161</td> <td>   15.665</td> <td> 0.000</td> <td> 2.53e+04</td> <td> 3.26e+04</td>\n",
       "</tr>\n",
       "<tr>\n",
       "  <th>x12</th>   <td>-7.947e+04</td> <td> 2512.322</td> <td>  -31.631</td> <td> 0.000</td> <td>-8.44e+04</td> <td>-7.45e+04</td>\n",
       "</tr>\n",
       "<tr>\n",
       "  <th>x13</th>   <td> 9754.4599</td> <td> 1733.090</td> <td>    5.628</td> <td> 0.000</td> <td> 6357.395</td> <td> 1.32e+04</td>\n",
       "</tr>\n",
       "<tr>\n",
       "  <th>x14</th>   <td>-3.334e+04</td> <td> 2084.589</td> <td>  -15.992</td> <td> 0.000</td> <td>-3.74e+04</td> <td>-2.92e+04</td>\n",
       "</tr>\n",
       "<tr>\n",
       "  <th>x15</th>   <td> 8.316e+04</td> <td> 1749.086</td> <td>   47.544</td> <td> 0.000</td> <td> 7.97e+04</td> <td> 8.66e+04</td>\n",
       "</tr>\n",
       "<tr>\n",
       "  <th>x16</th>   <td>-2.807e+04</td> <td> 2160.267</td> <td>  -12.992</td> <td> 0.000</td> <td>-3.23e+04</td> <td>-2.38e+04</td>\n",
       "</tr>\n",
       "<tr>\n",
       "  <th>x17</th>   <td> 1.708e+04</td> <td> 2782.097</td> <td>    6.139</td> <td> 0.000</td> <td> 1.16e+04</td> <td> 2.25e+04</td>\n",
       "</tr>\n",
       "<tr>\n",
       "  <th>x18</th>   <td>-1.257e+04</td> <td> 2386.419</td> <td>   -5.269</td> <td> 0.000</td> <td>-1.73e+04</td> <td>-7895.576</td>\n",
       "</tr>\n",
       "</table>\n",
       "<table class=\"simpletable\">\n",
       "<tr>\n",
       "  <th>Omnibus:</th>       <td>12582.751</td> <th>  Durbin-Watson:     </th>  <td>   1.985</td>  \n",
       "</tr>\n",
       "<tr>\n",
       "  <th>Prob(Omnibus):</th>  <td> 0.000</td>   <th>  Jarque-Bera (JB):  </th> <td>1219774.987</td>\n",
       "</tr>\n",
       "<tr>\n",
       "  <th>Skew:</th>           <td> 3.443</td>   <th>  Prob(JB):          </th>  <td>    0.00</td>  \n",
       "</tr>\n",
       "<tr>\n",
       "  <th>Kurtosis:</th>       <td>46.446</td>   <th>  Cond. No.          </th>  <td>1.04e+16</td>  \n",
       "</tr>\n",
       "</table><br/><br/>Warnings:<br/>[1] Standard Errors assume that the covariance matrix of the errors is correctly specified.<br/>[2] The smallest eigenvalue is 7.26e-28. This might indicate that there are<br/>strong multicollinearity problems or that the design matrix is singular."
      ],
      "text/plain": [
       "<class 'statsmodels.iolib.summary.Summary'>\n",
       "\"\"\"\n",
       "                            OLS Regression Results                            \n",
       "==============================================================================\n",
       "Dep. Variable:                      y   R-squared:                       0.707\n",
       "Model:                            OLS   Adj. R-squared:                  0.706\n",
       "Method:                 Least Squares   F-statistic:                     2140.\n",
       "Date:                Thu, 11 Oct 2018   Prob (F-statistic):               0.00\n",
       "Time:                        19:50:32   Log-Likelihood:            -2.0604e+05\n",
       "No. Observations:               15129   AIC:                         4.121e+05\n",
       "Df Residuals:                   15111   BIC:                         4.123e+05\n",
       "Df Model:                          17                                         \n",
       "Covariance Type:            nonrobust                                         \n",
       "==============================================================================\n",
       "                 coef    std err          t      P>|t|      [0.025      0.975]\n",
       "------------------------------------------------------------------------------\n",
       "const       5.411e+05   1617.659    334.518      0.000    5.38e+05    5.44e+05\n",
       "x1         -3.247e+04   2047.443    -15.860      0.000   -3.65e+04   -2.85e+04\n",
       "x2          3.126e+04   2950.802     10.593      0.000    2.55e+04     3.7e+04\n",
       "x3          7.986e+04   1867.482     42.762      0.000    7.62e+04    8.35e+04\n",
       "x4          9464.3938   2389.065      3.962      0.000    4781.537    1.41e+04\n",
       "x5          6330.4038   2298.205      2.754      0.006    1825.645    1.08e+04\n",
       "x6          5.783e+04   1768.702     32.697      0.000    5.44e+04    6.13e+04\n",
       "x7          3.613e+04   1963.545     18.400      0.000    3.23e+04       4e+04\n",
       "x8          1.753e+04   1811.928      9.674      0.000     1.4e+04    2.11e+04\n",
       "x9          1.138e+05   2983.692     38.129      0.000    1.08e+05     1.2e+05\n",
       "x10         7.311e+04   2002.072     36.515      0.000    6.92e+04     7.7e+04\n",
       "x11         2.894e+04   1847.161     15.665      0.000    2.53e+04    3.26e+04\n",
       "x12        -7.947e+04   2512.322    -31.631      0.000   -8.44e+04   -7.45e+04\n",
       "x13         9754.4599   1733.090      5.628      0.000    6357.395    1.32e+04\n",
       "x14        -3.334e+04   2084.589    -15.992      0.000   -3.74e+04   -2.92e+04\n",
       "x15         8.316e+04   1749.086     47.544      0.000    7.97e+04    8.66e+04\n",
       "x16        -2.807e+04   2160.267    -12.992      0.000   -3.23e+04   -2.38e+04\n",
       "x17         1.708e+04   2782.097      6.139      0.000    1.16e+04    2.25e+04\n",
       "x18        -1.257e+04   2386.419     -5.269      0.000   -1.73e+04   -7895.576\n",
       "==============================================================================\n",
       "Omnibus:                    12582.751   Durbin-Watson:                   1.985\n",
       "Prob(Omnibus):                  0.000   Jarque-Bera (JB):          1219774.987\n",
       "Skew:                           3.443   Prob(JB):                         0.00\n",
       "Kurtosis:                      46.446   Cond. No.                     1.04e+16\n",
       "==============================================================================\n",
       "\n",
       "Warnings:\n",
       "[1] Standard Errors assume that the covariance matrix of the errors is correctly specified.\n",
       "[2] The smallest eigenvalue is 7.26e-28. This might indicate that there are\n",
       "strong multicollinearity problems or that the design matrix is singular.\n",
       "\"\"\""
      ]
     },
     "execution_count": 37,
     "metadata": {},
     "output_type": "execute_result"
    }
   ],
   "source": [
    "xelimination = X[:,[0,1,2,3,4,5,6,7,8,9,10,11,12,13,14,15,16,17,18]]\n",
    "regressorOLS = sm.OLS(yt, xelimination).fit() #ordinary least squared method\n",
    "regressorOLS.summary()"
   ]
  },
  {
   "cell_type": "code",
   "execution_count": 38,
   "metadata": {
    "scrolled": false
   },
   "outputs": [
    {
     "data": {
      "text/html": [
       "<table class=\"simpletable\">\n",
       "<caption>OLS Regression Results</caption>\n",
       "<tr>\n",
       "  <th>Dep. Variable:</th>            <td>y</td>        <th>  R-squared:         </th>  <td>   0.706</td>  \n",
       "</tr>\n",
       "<tr>\n",
       "  <th>Model:</th>                   <td>OLS</td>       <th>  Adj. R-squared:    </th>  <td>   0.706</td>  \n",
       "</tr>\n",
       "<tr>\n",
       "  <th>Method:</th>             <td>Least Squares</td>  <th>  F-statistic:       </th>  <td>   2273.</td>  \n",
       "</tr>\n",
       "<tr>\n",
       "  <th>Date:</th>             <td>Thu, 11 Oct 2018</td> <th>  Prob (F-statistic):</th>   <td>  0.00</td>   \n",
       "</tr>\n",
       "<tr>\n",
       "  <th>Time:</th>                 <td>19:50:32</td>     <th>  Log-Likelihood:    </th> <td>-2.0605e+05</td>\n",
       "</tr>\n",
       "<tr>\n",
       "  <th>No. Observations:</th>      <td> 15129</td>      <th>  AIC:               </th>  <td>4.121e+05</td> \n",
       "</tr>\n",
       "<tr>\n",
       "  <th>Df Residuals:</th>          <td> 15112</td>      <th>  BIC:               </th>  <td>4.123e+05</td> \n",
       "</tr>\n",
       "<tr>\n",
       "  <th>Df Model:</th>              <td>    16</td>      <th>                     </th>      <td> </td>     \n",
       "</tr>\n",
       "<tr>\n",
       "  <th>Covariance Type:</th>      <td>nonrobust</td>    <th>                     </th>      <td> </td>     \n",
       "</tr>\n",
       "</table>\n",
       "<table class=\"simpletable\">\n",
       "<tr>\n",
       "    <td></td>       <th>coef</th>     <th>std err</th>      <th>t</th>      <th>P>|t|</th>  <th>[0.025</th>    <th>0.975]</th>  \n",
       "</tr>\n",
       "<tr>\n",
       "  <th>const</th> <td> 5.411e+05</td> <td> 1618.012</td> <td>  334.446</td> <td> 0.000</td> <td> 5.38e+05</td> <td> 5.44e+05</td>\n",
       "</tr>\n",
       "<tr>\n",
       "  <th>x1</th>    <td>-3.261e+04</td> <td> 2047.269</td> <td>  -15.929</td> <td> 0.000</td> <td>-3.66e+04</td> <td>-2.86e+04</td>\n",
       "</tr>\n",
       "<tr>\n",
       "  <th>x2</th>    <td> 3.338e+04</td> <td> 2848.778</td> <td>   11.719</td> <td> 0.000</td> <td> 2.78e+04</td> <td>  3.9e+04</td>\n",
       "</tr>\n",
       "<tr>\n",
       "  <th>x3</th>    <td>  8.01e+04</td> <td> 1865.884</td> <td>   42.927</td> <td> 0.000</td> <td> 7.64e+04</td> <td> 8.38e+04</td>\n",
       "</tr>\n",
       "<tr>\n",
       "  <th>x4</th>    <td> 9276.7629</td> <td> 2388.614</td> <td>    3.884</td> <td> 0.000</td> <td> 4594.790</td> <td>  1.4e+04</td>\n",
       "</tr>\n",
       "<tr>\n",
       "  <th>x5</th>    <td> 5.781e+04</td> <td> 1769.073</td> <td>   32.680</td> <td> 0.000</td> <td> 5.43e+04</td> <td> 6.13e+04</td>\n",
       "</tr>\n",
       "<tr>\n",
       "  <th>x6</th>    <td> 3.627e+04</td> <td> 1963.275</td> <td>   18.476</td> <td> 0.000</td> <td> 3.24e+04</td> <td> 4.01e+04</td>\n",
       "</tr>\n",
       "<tr>\n",
       "  <th>x7</th>    <td> 1.726e+04</td> <td> 1809.653</td> <td>    9.537</td> <td> 0.000</td> <td> 1.37e+04</td> <td> 2.08e+04</td>\n",
       "</tr>\n",
       "<tr>\n",
       "  <th>x8</th>    <td> 1.145e+05</td> <td> 2973.533</td> <td>   38.494</td> <td> 0.000</td> <td> 1.09e+05</td> <td>  1.2e+05</td>\n",
       "</tr>\n",
       "<tr>\n",
       "  <th>x9</th>    <td> 7.448e+04</td> <td> 1939.444</td> <td>   38.402</td> <td> 0.000</td> <td> 7.07e+04</td> <td> 7.83e+04</td>\n",
       "</tr>\n",
       "<tr>\n",
       "  <th>x10</th>   <td> 2.686e+04</td> <td> 1686.976</td> <td>   15.923</td> <td> 0.000</td> <td> 2.36e+04</td> <td> 3.02e+04</td>\n",
       "</tr>\n",
       "<tr>\n",
       "  <th>x11</th>   <td>-7.802e+04</td> <td> 2457.323</td> <td>  -31.750</td> <td> 0.000</td> <td>-8.28e+04</td> <td>-7.32e+04</td>\n",
       "</tr>\n",
       "<tr>\n",
       "  <th>x12</th>   <td> 9984.0465</td> <td> 1731.461</td> <td>    5.766</td> <td> 0.000</td> <td> 6590.173</td> <td> 1.34e+04</td>\n",
       "</tr>\n",
       "<tr>\n",
       "  <th>x13</th>   <td> -3.28e+04</td> <td> 2076.112</td> <td>  -15.801</td> <td> 0.000</td> <td>-3.69e+04</td> <td>-2.87e+04</td>\n",
       "</tr>\n",
       "<tr>\n",
       "  <th>x14</th>   <td> 8.353e+04</td> <td> 1744.211</td> <td>   47.891</td> <td> 0.000</td> <td> 8.01e+04</td> <td>  8.7e+04</td>\n",
       "</tr>\n",
       "<tr>\n",
       "  <th>x15</th>   <td>-2.859e+04</td> <td> 2152.465</td> <td>  -13.280</td> <td> 0.000</td> <td>-3.28e+04</td> <td>-2.44e+04</td>\n",
       "</tr>\n",
       "<tr>\n",
       "  <th>x16</th>   <td>  1.63e+04</td> <td> 2768.219</td> <td>    5.887</td> <td> 0.000</td> <td> 1.09e+04</td> <td> 2.17e+04</td>\n",
       "</tr>\n",
       "<tr>\n",
       "  <th>x17</th>   <td>-1.279e+04</td> <td> 2385.693</td> <td>   -5.359</td> <td> 0.000</td> <td>-1.75e+04</td> <td>-8109.433</td>\n",
       "</tr>\n",
       "</table>\n",
       "<table class=\"simpletable\">\n",
       "<tr>\n",
       "  <th>Omnibus:</th>       <td>12538.986</td> <th>  Durbin-Watson:     </th>  <td>   1.985</td>  \n",
       "</tr>\n",
       "<tr>\n",
       "  <th>Prob(Omnibus):</th>  <td> 0.000</td>   <th>  Jarque-Bera (JB):  </th> <td>1206123.198</td>\n",
       "</tr>\n",
       "<tr>\n",
       "  <th>Skew:</th>           <td> 3.426</td>   <th>  Prob(JB):          </th>  <td>    0.00</td>  \n",
       "</tr>\n",
       "<tr>\n",
       "  <th>Kurtosis:</th>       <td>46.202</td>   <th>  Cond. No.          </th>  <td>1.67e+16</td>  \n",
       "</tr>\n",
       "</table><br/><br/>Warnings:<br/>[1] Standard Errors assume that the covariance matrix of the errors is correctly specified.<br/>[2] The smallest eigenvalue is 2.7e-28. This might indicate that there are<br/>strong multicollinearity problems or that the design matrix is singular."
      ],
      "text/plain": [
       "<class 'statsmodels.iolib.summary.Summary'>\n",
       "\"\"\"\n",
       "                            OLS Regression Results                            \n",
       "==============================================================================\n",
       "Dep. Variable:                      y   R-squared:                       0.706\n",
       "Model:                            OLS   Adj. R-squared:                  0.706\n",
       "Method:                 Least Squares   F-statistic:                     2273.\n",
       "Date:                Thu, 11 Oct 2018   Prob (F-statistic):               0.00\n",
       "Time:                        19:50:32   Log-Likelihood:            -2.0605e+05\n",
       "No. Observations:               15129   AIC:                         4.121e+05\n",
       "Df Residuals:                   15112   BIC:                         4.123e+05\n",
       "Df Model:                          16                                         \n",
       "Covariance Type:            nonrobust                                         \n",
       "==============================================================================\n",
       "                 coef    std err          t      P>|t|      [0.025      0.975]\n",
       "------------------------------------------------------------------------------\n",
       "const       5.411e+05   1618.012    334.446      0.000    5.38e+05    5.44e+05\n",
       "x1         -3.261e+04   2047.269    -15.929      0.000   -3.66e+04   -2.86e+04\n",
       "x2          3.338e+04   2848.778     11.719      0.000    2.78e+04     3.9e+04\n",
       "x3           8.01e+04   1865.884     42.927      0.000    7.64e+04    8.38e+04\n",
       "x4          9276.7629   2388.614      3.884      0.000    4594.790     1.4e+04\n",
       "x5          5.781e+04   1769.073     32.680      0.000    5.43e+04    6.13e+04\n",
       "x6          3.627e+04   1963.275     18.476      0.000    3.24e+04    4.01e+04\n",
       "x7          1.726e+04   1809.653      9.537      0.000    1.37e+04    2.08e+04\n",
       "x8          1.145e+05   2973.533     38.494      0.000    1.09e+05     1.2e+05\n",
       "x9          7.448e+04   1939.444     38.402      0.000    7.07e+04    7.83e+04\n",
       "x10         2.686e+04   1686.976     15.923      0.000    2.36e+04    3.02e+04\n",
       "x11        -7.802e+04   2457.323    -31.750      0.000   -8.28e+04   -7.32e+04\n",
       "x12         9984.0465   1731.461      5.766      0.000    6590.173    1.34e+04\n",
       "x13         -3.28e+04   2076.112    -15.801      0.000   -3.69e+04   -2.87e+04\n",
       "x14         8.353e+04   1744.211     47.891      0.000    8.01e+04     8.7e+04\n",
       "x15        -2.859e+04   2152.465    -13.280      0.000   -3.28e+04   -2.44e+04\n",
       "x16          1.63e+04   2768.219      5.887      0.000    1.09e+04    2.17e+04\n",
       "x17        -1.279e+04   2385.693     -5.359      0.000   -1.75e+04   -8109.433\n",
       "==============================================================================\n",
       "Omnibus:                    12538.986   Durbin-Watson:                   1.985\n",
       "Prob(Omnibus):                  0.000   Jarque-Bera (JB):          1206123.198\n",
       "Skew:                           3.426   Prob(JB):                         0.00\n",
       "Kurtosis:                      46.202   Cond. No.                     1.67e+16\n",
       "==============================================================================\n",
       "\n",
       "Warnings:\n",
       "[1] Standard Errors assume that the covariance matrix of the errors is correctly specified.\n",
       "[2] The smallest eigenvalue is 2.7e-28. This might indicate that there are\n",
       "strong multicollinearity problems or that the design matrix is singular.\n",
       "\"\"\""
      ]
     },
     "execution_count": 38,
     "metadata": {},
     "output_type": "execute_result"
    }
   ],
   "source": [
    "xelimination = X[:,[0,1,2,3,4,6,7,8,9,10,11,12,13,14,15,16,17,18]]\n",
    "regressorOLS = sm.OLS(yt, xelimination).fit() #ordinary least squared method\n",
    "regressorOLS.summary()"
   ]
  },
  {
   "cell_type": "markdown",
   "metadata": {},
   "source": [
    "## Forward Selection usuing R squared method"
   ]
  },
  {
   "cell_type": "code",
   "execution_count": 39,
   "metadata": {},
   "outputs": [
    {
     "name": "stdout",
     "output_type": "stream",
     "text": [
      "(15129, 18) (15129, 1)\n",
      "(6484, 18) (6484, 1)\n"
     ]
    }
   ],
   "source": [
    "print(xtrain.shape,ytrain.shape)\n",
    "print(xtest.shape,ytest.shape)"
   ]
  },
  {
   "cell_type": "markdown",
   "metadata": {},
   "source": [
    "**Converting array to dataframe**"
   ]
  },
  {
   "cell_type": "code",
   "execution_count": 40,
   "metadata": {},
   "outputs": [],
   "source": [
    "x_train=pd.DataFrame(data=xtrain, columns=X1.columns)\n",
    "x_test=pd.DataFrame(data=xtest, columns=X1.columns)\n",
    "y_train=pd.DataFrame(data=ytrain, columns=Y1.columns)\n",
    "y_test=pd.DataFrame(data=ytest, columns=Y1.columns)"
   ]
  },
  {
   "cell_type": "markdown",
   "metadata": {},
   "source": [
    "**Defining Model**"
   ]
  },
  {
   "cell_type": "code",
   "execution_count": 41,
   "metadata": {},
   "outputs": [],
   "source": [
    "model = LinearRegression(fit_intercept=True, n_jobs =1)"
   ]
  },
  {
   "cell_type": "code",
   "execution_count": 42,
   "metadata": {},
   "outputs": [],
   "source": [
    "tem={}\n",
    "for i in x_train.columns:\n",
    "    model.fit(x_train[[i]],y_train)\n",
    "    pred = model.predict(x_test[[i]])\n",
    "    tem[i]=r2_score(y_test,pred)\n",
    "\n",
    "\n",
    "import operator\n",
    "sorted_x = sorted(tem.items(), key=operator.itemgetter(1)) \n",
    "\n",
    "final_var={}\n",
    "\n",
    "final_var[sorted_x[-1][0]]=sorted_x[-1][1]\n",
    "\n",
    "while (True):\n",
    "    prev=sorted_x[-1][1]\n",
    "    tem={}\n",
    "    lis=list(final_var.keys())\n",
    "    for j in x_train.columns:\n",
    "        if j in lis:\n",
    "            co=1\n",
    "        else:\n",
    "            lis.append(j)\n",
    "            model.fit(x_train[lis],y_train)\n",
    "            pred = model.predict(x_test[lis])\n",
    "            tem[j]=r2_score(y_test,pred)\n",
    "            #print(lis,r2_score(ytest,pred))\n",
    "            lis.remove(j)\n",
    "    sorted_x = sorted(tem.items(), key=operator.itemgetter(1))\n",
    "    current=sorted_x[-1][1]\n",
    "    if current>=prev:\n",
    "        final_var[sorted_x[-1][0]]=sorted_x[-1][1]\n",
    "        #print(prev,current)\n",
    "    else:\n",
    "        break\n",
    "    "
   ]
  },
  {
   "cell_type": "code",
   "execution_count": 43,
   "metadata": {},
   "outputs": [
    {
     "data": {
      "text/plain": [
       "Index(['bedrooms', 'bathrooms', 'sqft_living', 'sqft_lot', 'floors',\n",
       "       'waterfront', 'view', 'condition', 'grade', 'sqft_above',\n",
       "       'sqft_basement', 'yr_built', 'yr_renovated', 'zipcode', 'lat', 'long',\n",
       "       'sqft_living15', 'sqft_lot15'],\n",
       "      dtype='object')"
      ]
     },
     "execution_count": 43,
     "metadata": {},
     "output_type": "execute_result"
    }
   ],
   "source": [
    "x_train.columns"
   ]
  },
  {
   "cell_type": "code",
   "execution_count": 44,
   "metadata": {},
   "outputs": [
    {
     "data": {
      "text/plain": [
       "['sqft_living',\n",
       " 'lat',\n",
       " 'view',\n",
       " 'grade',\n",
       " 'yr_built',\n",
       " 'waterfront',\n",
       " 'bedrooms',\n",
       " 'bathrooms',\n",
       " 'condition',\n",
       " 'long',\n",
       " 'zipcode',\n",
       " 'sqft_basement',\n",
       " 'sqft_lot15',\n",
       " 'sqft_living15',\n",
       " 'sqft_above']"
      ]
     },
     "execution_count": 44,
     "metadata": {},
     "output_type": "execute_result"
    }
   ],
   "source": [
    "lis"
   ]
  },
  {
   "cell_type": "code",
   "execution_count": 45,
   "metadata": {},
   "outputs": [
    {
     "data": {
      "text/plain": [
       "0.6829630323923921"
      ]
     },
     "execution_count": 45,
     "metadata": {},
     "output_type": "execute_result"
    }
   ],
   "source": [
    "model.fit(x_train[lis],y_train)\n",
    "pred = model.predict(x_test[lis])\n",
    "r2_score(y_test, pred)"
   ]
  },
  {
   "cell_type": "markdown",
   "metadata": {},
   "source": [
    "### KFold"
   ]
  },
  {
   "cell_type": "markdown",
   "metadata": {},
   "source": [
    "**Diagram of 5-fold cross-validation**<img src='https://raw.githubusercontent.com/ritchieng/machine-learning-dataschool/master/images/07_cross_validation_diagram.png' width=200, height=400 >"
   ]
  },
  {
   "cell_type": "code",
   "execution_count": 46,
   "metadata": {},
   "outputs": [],
   "source": [
    "from sklearn.model_selection import KFold"
   ]
  },
  {
   "cell_type": "code",
   "execution_count": 47,
   "metadata": {},
   "outputs": [],
   "source": [
    "folds = KFold(n_splits=4, shuffle=True, random_state=25)"
   ]
  },
  {
   "cell_type": "code",
   "execution_count": 48,
   "metadata": {},
   "outputs": [
    {
     "name": "stdout",
     "output_type": "stream",
     "text": [
      "[    0     4     7 ... 21610 21611 21612] 16209\n",
      "[    1     2     3 ... 21594 21605 21608] 5404\n",
      "[    0     1     2 ... 21608 21609 21610] 16210\n",
      "[    4    16    21 ... 21607 21611 21612] 5403\n",
      "[    1     2     3 ... 21610 21611 21612] 16210\n",
      "[    0     9    17 ... 21587 21600 21604] 5403\n",
      "[    0     1     2 ... 21608 21611 21612] 16210\n",
      "[    7    13    14 ... 21602 21609 21610] 5403\n"
     ]
    }
   ],
   "source": [
    "for x, y in folds.split(X1, Y1):\n",
    "    print(x[:],len(x))\n",
    "    print(y[:],len(y))"
   ]
  },
  {
   "cell_type": "markdown",
   "metadata": {},
   "source": [
    "### Cross Validation"
   ]
  },
  {
   "cell_type": "code",
   "execution_count": 49,
   "metadata": {},
   "outputs": [],
   "source": [
    "from sklearn.model_selection import cross_val_score"
   ]
  },
  {
   "cell_type": "code",
   "execution_count": 50,
   "metadata": {},
   "outputs": [],
   "source": [
    "model = LinearRegression(fit_intercept=True, n_jobs =1)"
   ]
  },
  {
   "cell_type": "code",
   "execution_count": 51,
   "metadata": {},
   "outputs": [],
   "source": [
    "scores = cross_val_score(model, xtrain, ytrain, cv=10)"
   ]
  },
  {
   "cell_type": "code",
   "execution_count": 52,
   "metadata": {},
   "outputs": [
    {
     "name": "stdout",
     "output_type": "stream",
     "text": [
      "[0.70897734 0.69789927 0.72491176 0.6753178  0.68118381 0.73691543\n",
      " 0.71260272 0.68948064 0.68232336 0.74851672]\n"
     ]
    }
   ],
   "source": [
    "print(scores)"
   ]
  },
  {
   "cell_type": "code",
   "execution_count": 53,
   "metadata": {},
   "outputs": [
    {
     "name": "stdout",
     "output_type": "stream",
     "text": [
      "0.7058128860720561\n"
     ]
    }
   ],
   "source": [
    "print(scores.mean())"
   ]
  },
  {
   "cell_type": "code",
   "execution_count": null,
   "metadata": {},
   "outputs": [],
   "source": []
  }
 ],
 "metadata": {
  "kernelspec": {
   "display_name": "Python 3",
   "language": "python",
   "name": "python3"
  },
  "language_info": {
   "codemirror_mode": {
    "name": "ipython",
    "version": 3
   },
   "file_extension": ".py",
   "mimetype": "text/x-python",
   "name": "python",
   "nbconvert_exporter": "python",
   "pygments_lexer": "ipython3",
   "version": "3.6.5"
  }
 },
 "nbformat": 4,
 "nbformat_minor": 2
}
