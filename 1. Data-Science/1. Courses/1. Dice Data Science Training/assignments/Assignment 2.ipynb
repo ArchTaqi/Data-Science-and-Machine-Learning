{
 "cells": [
  {
   "cell_type": "markdown",
   "metadata": {},
   "source": [
    "# Assignemnt 2\n",
    "\n",
    "* Run  the control flow in Python notebook and method and functions notebook.\n",
    "* Do the following questions"
   ]
  },
  {
   "cell_type": "markdown",
   "metadata": {},
   "source": [
    "\n",
    "### Q1. Using the lists given below make a Dictionary by using For loop."
   ]
  },
  {
   "cell_type": "code",
   "execution_count": 5,
   "metadata": {},
   "outputs": [
    {
     "name": "stdout",
     "output_type": "stream",
     "text": [
      "{'Spain': 'Madrid', 'England': 'London', 'Netherland': 'Amsterdam', 'Italy': 'Rome', 'Germany': 'Berlin'}\n"
     ]
    }
   ],
   "source": [
    "Country = ['Spain','England','Netherland','Italy','Germany']\n",
    "Capital = ['Madrid','London','Amsterdam','Rome','Berlin']\n",
    "countries = {}\n",
    "\n",
    "for i,val in enumerate(Country):\n",
    "    countries[val] = Capital[i]\n",
    "\n",
    "print(countries)"
   ]
  },
  {
   "cell_type": "markdown",
   "metadata": {},
   "source": [
    "\n",
    "\n",
    "### Q2. Create an empty list, write for loop to assign each letter of \"result\" separately to list.\n"
   ]
  },
  {
   "cell_type": "code",
   "execution_count": 12,
   "metadata": {},
   "outputs": [],
   "source": [
    "result='word'"
   ]
  },
  {
   "cell_type": "code",
   "execution_count": 13,
   "metadata": {},
   "outputs": [
    {
     "name": "stdout",
     "output_type": "stream",
     "text": [
      "['w', 'o', 'r', 'd']\n"
     ]
    }
   ],
   "source": [
    "result_list = []\n",
    "count = 0\n",
    "while (count < len(result)):\n",
    "    result_list.append(result[count])\n",
    "    count = count + 1\n",
    "\n",
    "#print list\n",
    "print(result_list)"
   ]
  },
  {
   "cell_type": "markdown",
   "metadata": {},
   "source": [
    "\n",
    "### Q3. Write code to check if input number is greater than, less than or equal to 50. Loop should be continuous and command of exit should end the loop"
   ]
  },
  {
   "cell_type": "code",
   "execution_count": 24,
   "metadata": {},
   "outputs": [
    {
     "name": "stdout",
     "output_type": "stream",
     "text": [
      "Please enter the number : 50\n",
      "You enter exactly 50\n",
      "Want to enter another y/nn\n"
     ]
    }
   ],
   "source": [
    "repeat = True\n",
    "\n",
    "while(repeat):\n",
    "    number = input(\"Please enter the number : \")\n",
    "    number = int(number)\n",
    "\n",
    "    if number > 50:\n",
    "        print('You enter number greater than 50')\n",
    "    elif number == 50:\n",
    "        print('You enter exactly 50')\n",
    "    elif number < 50:\n",
    "        print('You enter number less than 50')\n",
    "        \n",
    "    user_answer = input(\"Want to enter another y/n\").lower().strip()\n",
    "    if user_answer == \"y\":\n",
    "        repeat  = True\n",
    "    elif user_answer == \"n\":\n",
    "        repeat  = False\n",
    "    else:\n",
    "        print(\"Error: Answer must be y or n\")"
   ]
  },
  {
   "cell_type": "code",
   "execution_count": null,
   "metadata": {},
   "outputs": [],
   "source": []
  }
 ],
 "metadata": {
  "kernelspec": {
   "display_name": "Python 3",
   "language": "python",
   "name": "python3"
  },
  "language_info": {
   "codemirror_mode": {
    "name": "ipython",
    "version": 3
   },
   "file_extension": ".py",
   "mimetype": "text/x-python",
   "name": "python",
   "nbconvert_exporter": "python",
   "pygments_lexer": "ipython3",
   "version": "3.6.5"
  }
 },
 "nbformat": 4,
 "nbformat_minor": 2
}
