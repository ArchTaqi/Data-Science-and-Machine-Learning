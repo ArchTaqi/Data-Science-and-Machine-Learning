{
 "cells": [
  {
   "cell_type": "markdown",
   "metadata": {},
   "source": [
    "# Load Data"
   ]
  },
  {
   "cell_type": "code",
   "execution_count": 41,
   "metadata": {},
   "outputs": [
    {
     "data": {
      "text/html": [
       "<div>\n",
       "<style scoped>\n",
       "    .dataframe tbody tr th:only-of-type {\n",
       "        vertical-align: middle;\n",
       "    }\n",
       "\n",
       "    .dataframe tbody tr th {\n",
       "        vertical-align: top;\n",
       "    }\n",
       "\n",
       "    .dataframe thead th {\n",
       "        text-align: right;\n",
       "    }\n",
       "</style>\n",
       "<table border=\"1\" class=\"dataframe\">\n",
       "  <thead>\n",
       "    <tr style=\"text-align: right;\">\n",
       "      <th></th>\n",
       "      <th>SALES_dATE</th>\n",
       "      <th>CUSTOMER_ID</th>\n",
       "      <th>SALES_AMOUNT</th>\n",
       "    </tr>\n",
       "  </thead>\n",
       "  <tbody>\n",
       "    <tr>\n",
       "      <th>0</th>\n",
       "      <td>2014-10-18</td>\n",
       "      <td>34810920</td>\n",
       "      <td>205.44</td>\n",
       "    </tr>\n",
       "    <tr>\n",
       "      <th>1</th>\n",
       "      <td>2014-09-22</td>\n",
       "      <td>1026037818</td>\n",
       "      <td>51.36</td>\n",
       "    </tr>\n",
       "    <tr>\n",
       "      <th>2</th>\n",
       "      <td>2014-09-30</td>\n",
       "      <td>1095693062</td>\n",
       "      <td>222.56</td>\n",
       "    </tr>\n",
       "    <tr>\n",
       "      <th>3</th>\n",
       "      <td>2014-10-25</td>\n",
       "      <td>15142688</td>\n",
       "      <td>171.20</td>\n",
       "    </tr>\n",
       "    <tr>\n",
       "      <th>4</th>\n",
       "      <td>2014-10-18</td>\n",
       "      <td>1022245368</td>\n",
       "      <td>171.20</td>\n",
       "    </tr>\n",
       "  </tbody>\n",
       "</table>\n",
       "</div>"
      ],
      "text/plain": [
       "  SALES_dATE  CUSTOMER_ID  SALES_AMOUNT\n",
       "0 2014-10-18     34810920        205.44\n",
       "1 2014-09-22   1026037818         51.36\n",
       "2 2014-09-30   1095693062        222.56\n",
       "3 2014-10-25     15142688        171.20\n",
       "4 2014-10-18   1022245368        171.20"
      ]
     },
     "execution_count": 41,
     "metadata": {},
     "output_type": "execute_result"
    }
   ],
   "source": [
    "import numpy as np\n",
    "import pandas as pd\n",
    "import matplotlib.pyplot as plt\n",
    "import seaborn as sns\n",
    "\n",
    "################################# Helper variables and methods ###########################\n",
    "columns = ['CUSTOMER_ID','TOTAL_SALES', 'SALES_COUNT', 'MEAN', 'S.D', 'VAR', 'MIN', 'MAX', 'FIRST_VISIT', 'LAST_VISIT']\n",
    "agg_funcs = {'SALES_AMOUNT' : ['sum','count','mean','std','var','min', 'max' ], 'SALES_dATE': ['min', 'max']}\n",
    "\n",
    "def format_df(df):\n",
    "    df = df.groupby(['CUSTOMER_ID'], as_index=False).agg(agg_funcs)\n",
    "    df.columns  = df.columns.droplevel()\n",
    "    df.columns = columns\n",
    "    return df\n",
    "\n",
    "def func_check_churn(row):\n",
    "    if row['TOTAL_SALES'] > 0:\n",
    "        val = 0\n",
    "    elif row['TOTAL_SALES'] == 0:\n",
    "        val = 1\n",
    "    else:\n",
    "        val = -1\n",
    "    return val\n",
    "\n",
    "def format_week_zero_df(df):\n",
    "    df = df.groupby(['CUSTOMER_ID'], as_index=False)['SALES_AMOUNT'].agg({'TOTAL_SALES' : 'sum'})\n",
    "    df['Churn'] = df.apply(func_check_churn, axis=1)\n",
    "    return df\n",
    "################################# Helper variables and methods ###########################\n",
    "\n",
    "\n",
    "data = pd.read_csv('Customer_Sales_Transactional_Data_CSV.csv',  encoding='latin1', parse_dates=['SALES_dATE'])\n",
    "df = data.copy()\n",
    "df.head(5)"
   ]
  },
  {
   "cell_type": "markdown",
   "metadata": {},
   "source": [
    "**Missing Values**"
   ]
  },
  {
   "cell_type": "markdown",
   "metadata": {},
   "source": [
    "There are no missing values present here."
   ]
  },
  {
   "cell_type": "code",
   "execution_count": 15,
   "metadata": {},
   "outputs": [
    {
     "data": {
      "text/plain": [
       "False"
      ]
     },
     "execution_count": 15,
     "metadata": {},
     "output_type": "execute_result"
    }
   ],
   "source": [
    "df.isnull().values.any()"
   ]
  },
  {
   "cell_type": "markdown",
   "metadata": {},
   "source": [
    "**Datatypes**"
   ]
  },
  {
   "cell_type": "code",
   "execution_count": 16,
   "metadata": {},
   "outputs": [
    {
     "data": {
      "image/png": "[encoded data removed]",
      "text/plain": [
       "<Figure size 432x288 with 1 Axes>"
      ]
     },
     "metadata": {},
     "output_type": "display_data"
    }
   ],
   "source": [
    "pp = pd.value_counts(df.dtypes)\n",
    "pp.plot.bar()\n",
    "plt.show()"
   ]
  },
  {
   "cell_type": "markdown",
   "metadata": {},
   "source": [
    "**Calcualte Weeks**"
   ]
  },
  {
   "cell_type": "code",
   "execution_count": 42,
   "metadata": {},
   "outputs": [
    {
     "data": {
      "text/plain": [
       "array([1, 4, 3, 0, 2, 5])"
      ]
     },
     "execution_count": 42,
     "metadata": {},
     "output_type": "execute_result"
    }
   ],
   "source": [
    "df['SALES_WEEK'] = pd.DatetimeIndex(df['SALES_dATE']).week\n",
    "df['SALES_WEEK'] = abs((df['SALES_WEEK'])-43)\n",
    "df['SALES_WEEK'].unique()"
   ]
  },
  {
   "cell_type": "code",
   "execution_count": 43,
   "metadata": {},
   "outputs": [],
   "source": [
    "week_zero = format_week_zero_df(df[df.SALES_WEEK==0])\n",
    "week_one = format_df(df[df.SALES_WEEK==1])\n",
    "week_two = format_df(df[df.SALES_WEEK==2])\n",
    "week_three = format_df(df[df.SALES_WEEK==3])\n",
    "week_four = format_df(df[df.SALES_WEEK==4])\n",
    "week_five = format_df(df[df.SALES_WEEK==5])\n",
    "overall = format_df(df[df.SALES_WEEK.isin([5,4,3,2,1])])"
   ]
  },
  {
   "cell_type": "code",
   "execution_count": 44,
   "metadata": {},
   "outputs": [
    {
     "data": {
      "text/html": [
       "<div>\n",
       "<style scoped>\n",
       "    .dataframe tbody tr th:only-of-type {\n",
       "        vertical-align: middle;\n",
       "    }\n",
       "\n",
       "    .dataframe tbody tr th {\n",
       "        vertical-align: top;\n",
       "    }\n",
       "\n",
       "    .dataframe thead th {\n",
       "        text-align: right;\n",
       "    }\n",
       "</style>\n",
       "<table border=\"1\" class=\"dataframe\">\n",
       "  <thead>\n",
       "    <tr style=\"text-align: right;\">\n",
       "      <th></th>\n",
       "      <th>CUSTOMER_ID</th>\n",
       "      <th>TOTAL_SALES</th>\n",
       "      <th>SALES_COUNT</th>\n",
       "      <th>MEAN</th>\n",
       "      <th>S.D</th>\n",
       "      <th>VAR</th>\n",
       "      <th>MIN</th>\n",
       "      <th>MAX</th>\n",
       "      <th>FIRST_VISIT</th>\n",
       "      <th>LAST_VISIT</th>\n",
       "    </tr>\n",
       "  </thead>\n",
       "  <tbody>\n",
       "    <tr>\n",
       "      <th>0</th>\n",
       "      <td>488</td>\n",
       "      <td>171.20</td>\n",
       "      <td>1</td>\n",
       "      <td>171.200000</td>\n",
       "      <td>NaN</td>\n",
       "      <td>NaN</td>\n",
       "      <td>171.20</td>\n",
       "      <td>171.20</td>\n",
       "      <td>2014-10-03</td>\n",
       "      <td>2014-10-03</td>\n",
       "    </tr>\n",
       "    <tr>\n",
       "      <th>1</th>\n",
       "      <td>5194</td>\n",
       "      <td>599.20</td>\n",
       "      <td>1</td>\n",
       "      <td>599.200000</td>\n",
       "      <td>NaN</td>\n",
       "      <td>NaN</td>\n",
       "      <td>599.20</td>\n",
       "      <td>599.20</td>\n",
       "      <td>2014-10-09</td>\n",
       "      <td>2014-10-09</td>\n",
       "    </tr>\n",
       "    <tr>\n",
       "      <th>2</th>\n",
       "      <td>5398</td>\n",
       "      <td>102.72</td>\n",
       "      <td>2</td>\n",
       "      <td>51.360000</td>\n",
       "      <td>0.000000</td>\n",
       "      <td>0.000000</td>\n",
       "      <td>51.36</td>\n",
       "      <td>51.36</td>\n",
       "      <td>2014-09-23</td>\n",
       "      <td>2014-10-07</td>\n",
       "    </tr>\n",
       "    <tr>\n",
       "      <th>3</th>\n",
       "      <td>6930</td>\n",
       "      <td>599.20</td>\n",
       "      <td>6</td>\n",
       "      <td>99.866667</td>\n",
       "      <td>34.946054</td>\n",
       "      <td>1221.226667</td>\n",
       "      <td>85.60</td>\n",
       "      <td>171.20</td>\n",
       "      <td>2014-09-25</td>\n",
       "      <td>2014-10-15</td>\n",
       "    </tr>\n",
       "    <tr>\n",
       "      <th>4</th>\n",
       "      <td>7260</td>\n",
       "      <td>1968.80</td>\n",
       "      <td>14</td>\n",
       "      <td>140.628571</td>\n",
       "      <td>52.950181</td>\n",
       "      <td>2803.721705</td>\n",
       "      <td>68.48</td>\n",
       "      <td>256.80</td>\n",
       "      <td>2014-09-19</td>\n",
       "      <td>2014-10-19</td>\n",
       "    </tr>\n",
       "  </tbody>\n",
       "</table>\n",
       "</div>"
      ],
      "text/plain": [
       "   CUSTOMER_ID  TOTAL_SALES  SALES_COUNT        MEAN        S.D          VAR  \\\n",
       "0          488       171.20            1  171.200000        NaN          NaN   \n",
       "1         5194       599.20            1  599.200000        NaN          NaN   \n",
       "2         5398       102.72            2   51.360000   0.000000     0.000000   \n",
       "3         6930       599.20            6   99.866667  34.946054  1221.226667   \n",
       "4         7260      1968.80           14  140.628571  52.950181  2803.721705   \n",
       "\n",
       "      MIN     MAX FIRST_VISIT LAST_VISIT  \n",
       "0  171.20  171.20  2014-10-03 2014-10-03  \n",
       "1  599.20  599.20  2014-10-09 2014-10-09  \n",
       "2   51.36   51.36  2014-09-23 2014-10-07  \n",
       "3   85.60  171.20  2014-09-25 2014-10-15  \n",
       "4   68.48  256.80  2014-09-19 2014-10-19  "
      ]
     },
     "execution_count": 44,
     "metadata": {},
     "output_type": "execute_result"
    }
   ],
   "source": [
    "overall.head()"
   ]
  },
  {
   "cell_type": "code",
   "execution_count": 28,
   "metadata": {},
   "outputs": [
    {
     "ename": "SyntaxError",
     "evalue": "invalid syntax (<ipython-input-28-2bf064ac4496>, line 1)",
     "output_type": "error",
     "traceback": [
      "\u001b[0;36m  File \u001b[0;32m\"<ipython-input-28-2bf064ac4496>\"\u001b[0;36m, line \u001b[0;32m1\u001b[0m\n\u001b[0;31m    overall = df[df.SALES_WEEK IN [38,39,40,41,42]]\u001b[0m\n\u001b[0m                                ^\u001b[0m\n\u001b[0;31mSyntaxError\u001b[0m\u001b[0;31m:\u001b[0m invalid syntax\n"
     ]
    }
   ],
   "source": [
    "week_five_four = "
   ]
  },
  {
   "cell_type": "code",
   "execution_count": null,
   "metadata": {},
   "outputs": [],
   "source": []
  }
 ],
 "metadata": {
  "kernelspec": {
   "display_name": "Python 3",
   "language": "python",
   "name": "python3"
  },
  "language_info": {
   "codemirror_mode": {
    "name": "ipython",
    "version": 3
   },
   "file_extension": ".py",
   "mimetype": "text/x-python",
   "name": "python",
   "nbconvert_exporter": "python",
   "pygments_lexer": "ipython3",
   "version": "3.6.5"
  }
 },
 "nbformat": 4,
 "nbformat_minor": 2
}
