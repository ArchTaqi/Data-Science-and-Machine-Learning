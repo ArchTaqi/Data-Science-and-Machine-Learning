{
 "cells": [
  {
   "cell_type": "markdown",
   "metadata": {},
   "source": [
    "# Intro to Stats"
   ]
  },
  {
   "cell_type": "markdown",
   "metadata": {},
   "source": [
    "- Distribution - ek variable ki bnti hai. i.e age count, bad example ($ prices increrses, bcz price and time)\n",
    " - **Histogram**\n",
    "    - X-axis = jis variable kis distibution dhkni hai, also called Bin Width.\n",
    "    - Y-axis = count of X, \n",
    "    \n",
    "    i.e Histogram of age, on X-axis we have range of X , 0-5-10-15-20-25 etc. and along Y-axies we have counts of ages between those ranges.\n",
    "    - Data density - \n",
    "    - jis tarf tail hoti hai us tarf ki skewness hoti hai\n",
    "    \n",
    "    - Mode: most occuring value\n",
    "    - Uni-model: ek peak ho\n",
    "    - bi-model : 2 peak hai\n",
    "    - multi-model: more than 2 peak\n",
    "    - un-from - koi clear peak ni\n",
    "    \n",
    " - **Dot Plots**\n",
    " - **Box Plots** \n",
    " \n",
    "    Quantiles - \n",
    "    Quartiles -\n",
    "    Deciles\n",
    "    Percentiles\n",
    "    \n",
    "    \n",
    "    - Assign - Uniform Box plots of data. hands on paper.\n",
    "    - mean, mode and median is also called summary stats."
   ]
  },
  {
   "cell_type": "code",
   "execution_count": null,
   "metadata": {},
   "outputs": [],
   "source": []
  }
 ],
 "metadata": {
  "kernelspec": {
   "display_name": "Python 3",
   "language": "python",
   "name": "python3"
  },
  "language_info": {
   "codemirror_mode": {
    "name": "ipython",
    "version": 3
   },
   "file_extension": ".py",
   "mimetype": "text/x-python",
   "name": "python",
   "nbconvert_exporter": "python",
   "pygments_lexer": "ipython3",
   "version": "3.6.5"
  }
 },
 "nbformat": 4,
 "nbformat_minor": 2
}
