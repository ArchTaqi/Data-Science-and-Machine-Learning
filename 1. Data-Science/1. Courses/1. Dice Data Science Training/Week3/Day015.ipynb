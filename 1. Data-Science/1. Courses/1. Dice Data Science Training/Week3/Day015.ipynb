{
 "cells": [
  {
   "cell_type": "markdown",
   "metadata": {},
   "source": [
    "matplotlib and seaborn. seaborn is build on top of matplotlib.\n",
    "\n",
    "\n",
    "\n",
    "## Matplotlib\n",
    "\n",
    "annotate function in matplotlib, to pinpoint a dot in graph\n",
    "\n",
    "make graph of Year 1970 and add countries [Pakistan, UAE, UK ]\n",
    "\n",
    "\n",
    "\n",
    "\n",
    "\n",
    "\n"
   ]
  },
  {
   "cell_type": "code",
   "execution_count": null,
   "metadata": {},
   "outputs": [],
   "source": []
  }
 ],
 "metadata": {
  "kernelspec": {
   "display_name": "Python 3",
   "language": "python",
   "name": "python3"
  },
  "language_info": {
   "codemirror_mode": {
    "name": "ipython",
    "version": 3
   },
   "file_extension": ".py",
   "mimetype": "text/x-python",
   "name": "python",
   "nbconvert_exporter": "python",
   "pygments_lexer": "ipython3",
   "version": "3.6.5"
  }
 },
 "nbformat": 4,
 "nbformat_minor": 2
}
